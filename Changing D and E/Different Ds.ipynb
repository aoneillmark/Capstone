{
 "cells": [
  {
   "cell_type": "code",
   "execution_count": 20,
   "metadata": {},
   "outputs": [],
   "source": [
    "import numpy as np\n",
    "import matplotlib.pyplot as plt\n",
    "import pandas as pd\n",
    "\n",
    "import sys\n",
    "import pycce as pc\n",
    "import ase\n",
    "from ase.build import bulk\n",
    "\n",
    "from mpl_toolkits import mplot3d\n",
    "\n",
    "seed = 8805\n",
    "np.random.seed(seed)\n",
    "np.set_printoptions(suppress=True, precision=5)"
   ]
  },
  {
   "cell_type": "code",
   "execution_count": 21,
   "metadata": {},
   "outputs": [],
   "source": [
    "# Generate unitcell from ase\n",
    "diamond = bulk('C', 'diamond', cubic=True)\n",
    "diamond = pc.read_ase(diamond)"
   ]
  },
  {
   "cell_type": "code",
   "execution_count": 22,
   "metadata": {},
   "outputs": [
    {
     "data": {
      "text/plain": [
       "defaultdict(dict, {'C': {'13C': 0.011}})"
      ]
     },
     "execution_count": 22,
     "metadata": {},
     "output_type": "execute_result"
    }
   ],
   "source": [
    "# Populate Bath cell with isotopes\n",
    "diamond.add_isotopes(('13C', 0.011))"
   ]
  },
  {
   "cell_type": "code",
   "execution_count": 23,
   "metadata": {},
   "outputs": [],
   "source": [
    "# Set z-direction of the bath (defect)\n",
    "diamond.zdir = [1, 1, 1]"
   ]
  },
  {
   "cell_type": "code",
   "execution_count": 24,
   "metadata": {},
   "outputs": [],
   "source": [
    "# Generate spin bath\n",
    "### Add the defect. remove and add atoms at the positions (in cell coordinates)\n",
    "atoms = diamond.gen_supercell(200, remove=[('C', [0., 0, 0]),\n",
    "                                           ('C', [0.5, 0.5, 0.5])],\n",
    "                              add=('14N', [0.5, 0.5, 0.5]),\n",
    "                              seed=seed)\n",
    "\n",
    "# Note, that because the 14C isotope doesn’t have a spin, PyCCE does not find it in common isotopes, and raises a warning. We have to provide SpinType for it separately, or define the properties as follows:\n",
    "atoms['14C'].gyro = 0\n",
    "atoms['14C'].spin = 0"
   ]
  },
  {
   "cell_type": "code",
   "execution_count": 116,
   "metadata": {},
   "outputs": [],
   "source": [
    "# Setting up the Simulator\n",
    "\n",
    "### Parameters of CCE calculations engine\n",
    "# Order of CCE aproximation\n",
    "order = 2\n",
    "# Bath cutoff radius\n",
    "r_bath = 40  # in A\n",
    "# Cluster cutoff radius\n",
    "r_dipole = 8  # in A\n",
    "\n",
    "# position of central spin\n",
    "position = [0, 0, 0]\n",
    "# Qubit levels (in Sz basis)\n",
    "alpha = [0, 0, 1]; beta = [0, 1, 0]\n",
    "\n",
    "##########################################################################################\n",
    "# ZFS Parametters of NV center in diamond\n",
    "D = -1.88 * 1e10 # in kHz\n",
    "E = 0 # in kHz\n",
    "##########################################################################################\n",
    "\n",
    "nv = pc.CenterArray(spin=1, position=position, D=D, E=E, alpha=alpha, beta=beta)\n",
    "\n",
    "# The code already knows most exsiting isotopes.\n",
    "#              Bath spin types\n",
    "#              name    spin    gyro       quadrupole (for s>1/2)\n",
    "spin_types = [('14N',  1,      1.9338,    20.44),\n",
    "              ('13C',  1 / 2,  6.72828),\n",
    "              ('29Si', 1 / 2, -5.3188),]\n",
    "atoms.add_type(*spin_types)"
   ]
  },
  {
   "cell_type": "code",
   "execution_count": 117,
   "metadata": {},
   "outputs": [
    {
     "name": "stdout",
     "output_type": "stream",
     "text": [
      "CenterArray\n",
      "(s: [1.],\n",
      "xyz:\n",
      "[[0. 0. 0.]],\n",
      "zfs:\n",
      "[[[ 6.26667e+09  0.00000e+00  0.00000e+00]\n",
      "  [ 0.00000e+00  6.26667e+09  0.00000e+00]\n",
      "  [ 0.00000e+00  0.00000e+00 -1.25333e+10]]],\n",
      "gyro:\n",
      "[[[-17608.59705     -0.          -0.     ]\n",
      "  [    -0.      -17608.59705     -0.     ]\n",
      "  [    -0.          -0.      -17608.59705]]])\n"
     ]
    }
   ],
   "source": [
    "print(nv)"
   ]
  },
  {
   "cell_type": "code",
   "execution_count": 118,
   "metadata": {},
   "outputs": [],
   "source": [
    "# Setting the Simulator object\n",
    "### Setting the runner engine\n",
    "calc = pc.Simulator(spin=nv, bath=atoms, D=D,\n",
    "                    r_bath=r_bath, r_dipole=r_dipole, order=order)"
   ]
  },
  {
   "cell_type": "code",
   "execution_count": 119,
   "metadata": {},
   "outputs": [
    {
     "name": "stdout",
     "output_type": "stream",
     "text": [
      "Simulator for center array of size 1.\n",
      "magnetic field:\n",
      "array([0., 0., 0.])\n",
      "\n",
      "Parameters of cluster expansion:\n",
      "r_bath: 40\n",
      "r_dipole: 8\n",
      "order: 2\n",
      "\n",
      "Bath consists of 506 spins.\n",
      "\n",
      "Clusters include:\n",
      "506  clusters of order 1.\n",
      "876  clusters of order 2.\n",
      "\n"
     ]
    }
   ],
   "source": [
    "print(calc)"
   ]
  },
  {
   "cell_type": "code",
   "execution_count": 120,
   "metadata": {},
   "outputs": [],
   "source": [
    "# # Taking advantage of subclassing np.ndarray we can change in situ the quadrupole tensor of the Nitrogen nuclear spin.\n",
    "# nspin = calc.bath\n",
    "# # Set model quadrupole tensor at N atom\n",
    "# quad = np.asarray([[-2.5, 0, 0],\n",
    "#                    [0, -2.5, 0],\n",
    "#                    [0, 0,  5.0]]) * 1e3 * 2 * np.pi\n",
    "\n",
    "# nspin['Q'][nspin['N'] == '14N'] = quad"
   ]
  },
  {
   "cell_type": "code",
   "execution_count": 121,
   "metadata": {},
   "outputs": [
    {
     "name": "stdout",
     "output_type": "stream",
     "text": [
      "Simulator for center array of size 1.\n",
      "magnetic field:\n",
      "array([0., 0., 0.])\n",
      "\n",
      "Parameters of cluster expansion:\n",
      "r_bath: 40\n",
      "r_dipole: 8\n",
      "order: 2\n",
      "\n",
      "Bath consists of 506 spins.\n",
      "\n",
      "Clusters include:\n",
      "506  clusters of order 1.\n",
      "876  clusters of order 2.\n",
      "\n"
     ]
    }
   ],
   "source": [
    "print(calc)"
   ]
  },
  {
   "cell_type": "code",
   "execution_count": 122,
   "metadata": {},
   "outputs": [],
   "source": [
    "# Time points\n",
    "time_space = np.linspace(0, 2, 201)  # in ms\n",
    "# Number of pulses in CPMG seq (0 = FID, 1 = HE)\n",
    "n = 1\n",
    "\n",
    "##########################################################################################\n",
    "# Mag. Field (Bx By Bz)\n",
    "b = np.array([0, 0, 0])  # in G\n",
    "##########################################################################################\n",
    "\n",
    "# Hahn-echo pulse sequence\n",
    "pulse_sequence = [pc.Pulse('x',np.pi)]\n",
    "# pulse_sequence += [pc.Pulse('z',np.pi)]\n",
    "# pulse_sequence += [pc.Pulse('y',np.pi)]\n",
    "\n",
    "\n",
    "# Calculate coherence function\n",
    "l_generatilze = calc.compute(time_space, magnetic_field=b,\n",
    "                             pulses=pulse_sequence,\n",
    "                             method='gcce', quantity='coherence')"
   ]
  },
  {
   "cell_type": "code",
   "execution_count": 123,
   "metadata": {},
   "outputs": [],
   "source": [
    "# calc.compute(time_space, magnetic_field=b,\n",
    "#              pulses=pulse_sequence,\n",
    "#              method='gcce',\n",
    "#              quantity='coherence')\n"
   ]
  },
  {
   "cell_type": "code",
   "execution_count": 124,
   "metadata": {},
   "outputs": [
    {
     "data": {
      "text/plain": [
       "[<matplotlib.lines.Line2D at 0x140042fb0>]"
      ]
     },
     "execution_count": 124,
     "metadata": {},
     "output_type": "execute_result"
    },
    {
     "data": {
      "image/png": "[encoded data removed]",
      "text/plain": [
       "<Figure size 640x480 with 1 Axes>"
      ]
     },
     "metadata": {},
     "output_type": "display_data"
    }
   ],
   "source": [
    "plt.plot(time_space,l_generatilze)"
   ]
  },
  {
   "cell_type": "code",
   "execution_count": null,
   "metadata": {},
   "outputs": [],
   "source": []
  },
  {
   "cell_type": "code",
   "execution_count": null,
   "metadata": {},
   "outputs": [],
   "source": []
  }
 ],
 "metadata": {
  "kernelspec": {
   "display_name": "Capstone_environment",
   "language": "python",
   "name": "python3"
  },
  "language_info": {
   "codemirror_mode": {
    "name": "ipython",
    "version": 3
   },
   "file_extension": ".py",
   "mimetype": "text/x-python",
   "name": "python",
   "nbconvert_exporter": "python",
   "pygments_lexer": "ipython3",
   "version": "3.10.10"
  },
  "orig_nbformat": 4
 },
 "nbformat": 4,
 "nbformat_minor": 2
}
