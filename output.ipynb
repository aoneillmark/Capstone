{
 "cells": [
  {
   "cell_type": "markdown",
   "id": "0c3b0862",
   "metadata": {},
   "source": [
    "# NV Center in Diamond\n",
    "\n",
    "In this tutorial, we will go over the main steps of running CCE calculations for the NV center in diamond with the PyCCE module. Those include:\n",
    "\n",
    "- Generating the spin bath using the pycce.BathCell instance.\n",
    "- Setting up properties of the pycce.Simulator instance.\n",
    "- Running the calculations with the Simulator.compute function.\n",
    "\n",
    "We will compute the Hahn-echo coherence function (with decoupling pulse applied) using the following available methods:\n",
    "- Conventional CCE.\n",
    "- Generalized CCE (gCCE).\n",
    "- gCCE with Monte-Carlo bath sampling.\n",
    "Finally, we will run a simulation on how different bath polarization will impact Hahn-echo signal."
   ]
  },
  {
   "cell_type": "code",
   "execution_count": 1,
   "id": "0482dff8",
   "metadata": {},
   "outputs": [
    {
     "name": "stderr",
     "output_type": "stream",
     "text": [
      "/Users/markoneill/Desktop/Physics/SS/Capstone/VScode Capstone Folder/Capstone_environment/lib/python3.10/site-packages/numba/core/decorators.py:262: NumbaDeprecationWarning: numba.generated_jit is deprecated. Please see the documentation at: https://numba.readthedocs.io/en/stable/reference/deprecation.html#deprecation-of-generated-jit for more information and advice on a suitable replacement.\n",
      "  warnings.warn(msg, NumbaDeprecationWarning)\n"
     ]
    }
   ],
   "source": [
    "import numpy as np\n",
    "import matplotlib.pyplot as plt\n",
    "import pandas as pd\n",
    "\n",
    "import sys\n",
    "import pycce as pc\n",
    "import ase\n",
    "\n",
    "from mpl_toolkits import mplot3d\n",
    "\n",
    "seed = 8805\n",
    "np.random.seed(seed)\n",
    "np.set_printoptions(suppress=True, precision=5)"
   ]
  },
  {
   "cell_type": "markdown",
   "id": "958bf998",
   "metadata": {},
   "source": [
    "# Generate Nuclear Spin Bath\n",
    "### Building a Supercell of Nuclear Spins from the ase.Atoms Object\n",
    "To generate a cell from the ase.Atoms object, use the classmethod BathCell.from_ase."
   ]
  },
  {
   "cell_type": "code",
   "execution_count": 2,
   "id": "f28d2b5b",
   "metadata": {},
   "outputs": [],
   "source": [
    "from ase.build import bulk\n",
    "\n",
    "# Generate unit cell from ase\n",
    "diamond = bulk('C', 'diamond', cubic=True)\n",
    "diamond = pc.read_ase(diamond)"
   ]
  },
  {
   "cell_type": "markdown",
   "id": "861035f9",
   "metadata": {},
   "source": [
    "The following attributes are created with this initialization:\n",
    "\n",
    "- cell is an ndarray containing information about lattice vectors. Each column is a lattice vector in cartesian coordinates.\n",
    "- atoms is a dictionary with keys corresponding to the atom name, and each item is a list of the coordinates in cell coordinates."
   ]
  },
  {
   "cell_type": "code",
   "execution_count": 3,
   "id": "38e9819a",
   "metadata": {},
   "outputs": [
    {
     "name": "stdout",
     "output_type": "stream",
     "text": [
      "Cell\n",
      " [[3.57 0.   0.  ]\n",
      " [0.   3.57 0.  ]\n",
      " [0.   0.   3.57]]\n",
      "\n",
      "Atoms\n",
      " defaultdict(<class 'list'>, {'C': [array([0., 0., 0.]), array([0.25, 0.25, 0.25]), array([0. , 0.5, 0.5]), array([0.25, 0.75, 0.75]), array([0.5, 0. , 0.5]), array([0.75, 0.25, 0.75]), array([0.5, 0.5, 0. ]), array([0.75, 0.75, 0.25])]})\n"
     ]
    }
   ],
   "source": [
    "print('Cell\\n', diamond.cell)\n",
    "print('\\nAtoms\\n', diamond.atoms)"
   ]
  },
  {
   "cell_type": "markdown",
   "id": "faf9c51c",
   "metadata": {},
   "source": [
    "### Populate BathCell with Isotopes\n",
    "The PyCCE package uses the EasySpin database of the concentrations of all common stable isotopes with non-zero spin. However, the user can provide custom concentrations.\n",
    "\n",
    "Use the function BathCell.add_isotopes to add one (or several) isotopes of the element. Each isotope is initialized with a tuple containing the name of the isotope and its concentration.\n",
    "\n",
    "Name of the isotope includes the number and element symbol, provided in the atoms object. As an output, the BathCell.add_isotopes method returns a view on the dictionary BathCell.isotopes which can be modified directly."
   ]
  },
  {
   "cell_type": "code",
   "execution_count": 4,
   "id": "a3032ed3",
   "metadata": {},
   "outputs": [
    {
     "data": {
      "text/plain": [
       "defaultdict(dict, {'C': {'13C': 0.011}})"
      ]
     },
     "execution_count": 4,
     "metadata": {},
     "output_type": "execute_result"
    }
   ],
   "source": [
    "# Add types of isotopes\n",
    "diamond.add_isotopes(('13C', 0.011))"
   ]
  },
  {
   "cell_type": "markdown",
   "id": "d42805f0",
   "metadata": {},
   "source": [
    "Isotopes may also be directly added to BathCell.isotopes. For example, below we are adding an isotope without the nuclear spin:"
   ]
  },
  {
   "cell_type": "code",
   "execution_count": 5,
   "id": "dbd33fd8",
   "metadata": {},
   "outputs": [],
   "source": [
    "diamond.isotopes['C']['14C'] = 0.001"
   ]
  },
  {
   "cell_type": "markdown",
   "id": "6b8d53eb",
   "metadata": {},
   "source": [
    "### Set Z-Direction of the Bath (Optional)\n",
    "In the Simulator object, everything is set in basis. When the quantization axis of the defect does not align with the (0, 0, 1) direction of the crystal axis, the user needs to define the axis.\n",
    "\n",
    "If one wants to specify the complete rotation of cartesian axes, one can provide a rotation matrix to rotate the cartesian reference frame with respect to the cell coordinates by calling the BathCell.rotate method."
   ]
  },
  {
   "cell_type": "code",
   "execution_count": 6,
   "id": "5865aa02",
   "metadata": {},
   "outputs": [],
   "source": [
    "# Set z direction of the defect\n",
    "diamond.zdir = [1, 1, 1]"
   ]
  },
  {
   "cell_type": "markdown",
   "id": "15faa4cb",
   "metadata": {},
   "source": [
    "### Generate Spin Bath\n",
    "To generate the spin bath, use the BathCell.gen_supercell method. \n",
    "The first argument is the linear size of the supercell (minimum distance between any two faces of the supercell is equal to or larger than this parameter). Additional keyword arguments are remove and add."
   ]
  },
  {
   "cell_type": "code",
   "execution_count": null,
   "id": "3648abc1",
   "metadata": {},
   "outputs": [],
   "source": [
    "atoms = diamond.gen_supercell(200, remove=[('C', [0., 0, 0]),\n",
    "                                           ('C', [0.5, 0.5, 0.5])],\n",
    "                              add=('14N', [0.5, 0.5, 0.5]),\n",
    "                              seed=seed)"
   ]
  },
  {
   "cell_type": "markdown",
   "id": "7390bef0",
   "metadata": {},
   "source": [
    "Note: The 14C isotope doesn't have a spin, so PyCCE does not find it in common isotopes and raises a warning. You have to provide SpinType for it separately or define the properties as follows:"
   ]
  },
  {
   "cell_type": "code",
   "execution_count": null,
   "id": "b8a517b4",
   "metadata": {},
   "outputs": [],
   "source": [
    "atoms['14C'].gyro = 0\n",
    "atoms['14C'].spin = 0"
   ]
  },
  {
   "cell_type": "markdown",
   "id": "48617a3e",
   "metadata": {},
   "source": [
    "# BathArray Structure\n",
    "The bath spins are stored in the BathArray object - a subclass of np.ndarray with fixed datastructure:\n",
    "- N field dtype('<U16') contains the names of bath spins.\n",
    "- xyz field dtype('<f8', (3,)) contains the positions of bath spins (in A).\n",
    "- A field dtype('<f8', (3, 3)) contains the hyperfine coupling of bath spins (in kHz).\n",
    "- Q field dtype('<f8', (3, 3)) contains the quadrupole tensor of bath spins (in kHz) (Relevant for spin >= 1).\n",
    "\n",
    "All of the fields are accesible as attributes of BathArray. Additionally, the subarrays of the specific spins are accessible with their name as indicated above.\n",
    "Upon generation of the array from the cell, the Q and A fields are empty. The Hyperfine couplings will be automatically computed by the Simulator object, however the quadrupole couplings must be set by the user.\n",
    "The additional attributes allow one to access SpinType properties:\n",
    "- name returns the spin name or array of spin names;\n",
    "- spin returns the value of the spin or array of ones;\n",
    "- gyro returns gyromagnetic ratios of the spins;\n",
    "- q returns quadrupole constants of the spins;\n",
    "- h returns a dictionary with user-defined additions to the Hamiltonian.\n",
    "- detuning returns detunings of the spins (See definition below).\n",
    "\n",
    "For example, below we print out the attributes of the first two spins in the BathArray."
   ]
  },
  {
   "cell_type": "code",
   "execution_count": null,
   "id": "64ed5ddf",
   "metadata": {},
   "outputs": [],
   "source": [
    "print('Names\\n', atoms[:2].N)\n",
    "print('\\nCoordinates\\n', atoms[:2].xyz)\n",
    "print('\\nHyperfine tensors\\n', atoms[:2].A)\n",
    "print('\\nQuadrupole tensors\\n',atoms[:2].Q)"
   ]
  },
  {
   "cell_type": "markdown",
   "id": "0f743d76",
   "metadata": {},
   "source": [
    "The properties of spin types (gyromagnetic ratio, quadrupole moment, etc) are stored in the BathArray.types attribute, which is an instance of SpinDict containing SpinType classes. For most known isotopes SpinType can be found in the pycce.common_isotopes dictionary, and is set by default (including electron spin-1/2, which is denoted by setting N = e). The user can add additional SpinType objects, by calling BathArray.add_type method or setting elements of SpinDict directly. For details of the first approach see documentation of SpinDict.add_type method.\n",
    "The direct setting of types is rather simple. The user can set elements of SpinDict with tuple, containing:\n",
    "- (spin, gyromagnetic ratio, quadrupole moment *(optional)*, detuning *(optional)*, )\n",
    "\n",
    "OR\n",
    "- (isotope, spin, gyromagnetic ratio, quadrupole moment *(optional)*, detuning *(optional)*, )\n",
    "\n",
    "where:\n",
    "- isotope (str) is the name of the given spin (same one as in N field of BathArray) to define new SpinType object. The key of SpinDict has to be the correct name of the spin (“isotope” field in the tuple).\n",
    "- spin (float) is the total spin of the given bath spin.\n",
    "- gyromagnetic ratio (float) is the gyromagnetic ratio of the given bath spin.\n",
    "- quadrupole moment (float) is the quadrupole moment of the given bath spin. Relevant only when electric field gradient are used to generate quadrupole couplings for spins, stored in the BathArray, with BathArray.from_efg method.\n",
    "-detuning (float) is an additional energy splitting for model spins, included as an extra +wS(hat)_z term in the Hamiltonian, where w is the detuning.\n",
    "\n",
    "Units of gyromagnetic ratio are rad / ms / G, quadrupole moments are given in barn, detunings are given in kHz."
   ]
  },
  {
   "cell_type": "code",
   "execution_count": null,
   "id": "9529b6d5",
   "metadata": {},
   "outputs": [],
   "source": [
    "# Several ways to set SpinDict elements\n",
    "atoms.types['14C'] = 0, 0, 0\n",
    "atoms.types['Y'] = ('Y', 0, 0, 0)\n",
    "atoms.types['A'] = pc.SpinType('A', 0, 0, 0)\n",
    "\n",
    "print(atoms.types)"
   ]
  },
  {
   "cell_type": "markdown",
   "id": "1cac317a",
   "metadata": {},
   "source": [
    "# Simulator Class\n",
    "The parameters of the CCE simulator engine.\n",
    "Main parameters to consider:\n",
    "- spin — Either instance of the CenterArray or float - total spin of the central spin (assuming one central spin).\n",
    "- bath — spin bath in any specified format. Can be either:\n",
    "- Instance of BathArray class;\n",
    "- ndarray with dtype([('N', np.unicode_, 16), ('xyz', np.float64, (3,))]) containing names of bath spins (same ones as stored in self.ntype) and positions of the spins in angstroms;\n",
    "- The name of the .xyz text file containing 4 columns: name of the bath spin and xyz coordinates in A.\n",
    "- r_bath — cutoff radius around the central spin for the bath.\n",
    "- order — maximum size of the cluster.\n",
    "- r_dipole — cutoff radius for the pairwise distance to consider two nuclear spins to be connected.\n",
    "- magnetic_field — applied magnetic field. Can also be provided during the simulation run.\n",
    "- pulses — number of pulses in Carr-Purcell-Meiboom-Gill (CPMG) sequence or the pulse sequence itself.\n",
    "\n",
    "For the full description see the documentation of the Simulator object.\n",
    "\n",
    "First we setup a “mock” instance of Simulator to visualize the smaller part of the bath around the central spin."
   ]
  },
  {
   "cell_type": "code",
   "execution_count": null,
   "id": "c8512f27",
   "metadata": {},
   "outputs": [],
   "source": [
    "# Setting the runner engine\n",
    "mock = pc.Simulator(spin=1, position=[0,0,0],\n",
    "                    bath=atoms, r_bath=20,\n",
    "                    r_dipole=6, order=3)"
   ]
  },
  {
   "cell_type": "markdown",
   "id": "df34ac19",
   "metadata": {},
   "source": [
    "# Setting the Simulator object\n",
    "All of the kwargs can be provided at the moment of creation. If all of the kwargs are provided, several methods of the Simulator class are called:\n",
    "\n",
    "- Simulator.read_bath;\n",
    "\n",
    "- Simulator.generate_clusters.\n",
    "\n",
    "The details are available in the Simulator methods description."
   ]
  },
  {
   "cell_type": "code",
   "execution_count": null,
   "id": "73495a02",
   "metadata": {},
   "outputs": [],
   "source": [
    "# Setting the runner engine\n",
    "calc = pc.Simulator(spin=nv, bath=atoms,\n",
    "                    r_bath=r_bath, r_dipole=r_dipole, order=order)\n",
    "Taking advantage of subclassing np.ndarray we can change in situ the quadrupole tensor of the Nitrogen nuclear spin.\n",
    "\n",
    "nspin = calc.bath\n",
    "# Set model quadrupole tensor at N atom\n",
    "quad = np.asarray([[-2.5, 0, 0],\n",
    "                   [0, -2.5, 0],\n",
    "                   [0, 0,  5.0]]) * 1e3 * 2 * np.pi\n",
    "\n",
    "nspin['Q'][nspin['N'] == '14N'] = quad"
   ]
  },
  {
   "cell_type": "markdown",
   "id": "736aa8c9",
   "metadata": {},
   "source": [
    "Note, that we need to apply the boolean mask second because of how structured arrays work.\n",
    "\n",
    "# Compute coherence function with conventional CCE\n",
    "The general interface to compute any property with PyCCE is implemented through the Simulator.compute method. It takes two keyword arguments to determine which quantity to compute and how:\n",
    "- method can take ‘cce’ or ‘gcce’ values, and determines which method to use - conventional or generalized CCE.\n",
    "- quantity can take ‘coherence’ or ‘noise’ values, and determines which quantity to compute - coherence function or autocorrelation function of the noise.\n",
    "\n",
    "Each of the methods can be performed with Monte Carlo bath state sampling (if nbstates keyword is non zero) and with interlaced averaging (If interlaced keyword is set to True).\n",
    "\n",
    "In the first example we use the conventional CCE method without Monte Carlo bath state sampling. In the conventional CCE method the Hamiltonian is projected on the qubit levels, and the coherence is computed from the overlap of the bath evolution, entangled with two different qubit states.\n",
    "\n",
    "The conventional CCE requires one argument:\n",
    "- timespace — time points at which the coherence function is computed.\n",
    "\n",
    "Additionally, one can provide the following arguments now, instead of when initiallizing Simulator object:\n",
    "- pulses — number of pulses in CPMG sequence (0 - FID, 1 - HE etc., default 0) or explicit sequence of pulses as Sequence class instance.\n",
    "- mangetic_field — magnetic field along z-axis or vector of the magnetic field. Default (0, 0, 0)."
   ]
  },
  {
   "cell_type": "code",
   "execution_count": null,
   "id": "11cfc6dc",
   "metadata": {},
   "outputs": [],
   "source": [
    "# Time points\n",
    "time_space = np.linspace(0, 2, 201)  # in ms\n",
    "# Number of pulses in CPMG seq (0 = FID, 1 = HE)\n",
    "n = 1\n",
    "# Mag. Field (Bx By Bz)\n",
    "b = np.array([0, 0, 500])  # in G\n",
    "\n",
    "l_conv = calc.compute(time_space, pulses=n, magnetic_field=b,\n",
    "                      method='cce', quantity='coherence', as_delay=False)\n",
    "%%timeit\n",
    "calc.compute(time_space, pulses=n, magnetic_field=b,\n",
    "             method='cce', quantity='coherence', as_delay=False)"
   ]
  },
  {
   "cell_type": "markdown",
   "id": "f4791294",
   "metadata": {},
   "source": [
    "705 ms ± 9.74 ms per loop (mean ± std. dev. of 7 runs, 1 loop each)"
   ]
  },
  {
   "cell_type": "markdown",
   "id": "168b2b3a",
   "metadata": {},
   "source": [
    "# Generalized CCE (gCCE)\n",
    "In contrast to the conventional CCE method, in generalized CCE arpproach each cluster includes the central spin explicitly.\n",
    "\n",
    "Simulator can take pulses argument as an actual pulse sequence with an iterable of Pulse objects.\n",
    "\n",
    "For example:"
   ]
  },
  {
   "cell_type": "code",
   "execution_count": null,
   "id": "d7561a2c",
   "metadata": {},
   "outputs": [],
   "source": [
    "p1 = pc.Pulse('x', np.pi)\n",
    "p2 = pc.Pulse('y', np.pi)\n",
    "seq = [p1, p2, p1, p2]"
   ]
  },
  {
   "cell_type": "markdown",
   "id": "c1dd31d3",
   "metadata": {},
   "source": [
    "seq will define XY-4 pulse sequence.\n",
    "\n",
    "An integer number to define the number of pulses is also accepted as in the case of conventional CCE. If the integer is provided, the code assumes the CPMG sequence."
   ]
  },
  {
   "cell_type": "code",
   "execution_count": null,
   "id": "1fb1aee9",
   "metadata": {},
   "outputs": [],
   "source": [
    "# Hahn-echo pulse sequence\n",
    "pulse_sequence = [pc.Pulse('x', np.pi)]\n",
    "\n",
    "# Calculate coherence function\n",
    "l_generatilze = calc.compute(time_space, magnetic_field=b,\n",
    "                             pulses=pulse_sequence,\n",
    "                             method='gcce', quantity='coherence')\n",
    "%%timeit\n",
    "calc.compute(time_space, magnetic_field=b,\n",
    "             pulses=pulse_sequence,\n",
    "             method='gcce',\n",
    "             quantity='coherence')"
   ]
  },
  {
   "cell_type": "markdown",
   "id": "4bbd5d16",
   "metadata": {},
   "source": [
    "1.92 s ± 24.6 ms per loop (mean ± std. dev. of 7 runs, 1 loop each)\n",
    "\n",
    "# gCCE with random sampling of bath states\n",
    "Using this approach, one may carry out generalized CCE calculations for the set of random bath states. This functionality can be turned on by by setting the keyword argument nbstates to a number of bath states to sample over. Recommended number of bath states is above 100, but the convergence should be checked for each system. Note, that this computation is roughly nbstates times longer than an equivalent generalized CCE calculation, as it computes everything nbstates times.\n",
    "\n",
    "For details see help(calc.compute)."
   ]
  },
  {
   "cell_type": "code",
   "execution_count": null,
   "id": "9cec0036",
   "metadata": {},
   "outputs": [],
   "source": [
    "# Number of random bath states to sample over\n",
    "n_bath_states = 20\n",
    "\n",
    "# Calculate coherence function\n",
    "l_gcce = calc.compute(time_space, magnetic_field=b,\n",
    "                      pulses=pulse_sequence,\n",
    "                      nbstates=n_bath_states,\n",
    "                      method='gcce', quantity='coherence', seed=seed)\n",
    "%%timeit\n",
    "n_bath_states = 5\n",
    "calc.compute(time_space, magnetic_field=b,\n",
    "             pulses=pulse_sequence,\n",
    "             nbstates=n_bath_states,\n",
    "             method='gcce', quantity='coherence', seed=seed)"
   ]
  },
  {
   "cell_type": "markdown",
   "id": "34f3a932",
   "metadata": {},
   "source": [
    "11.9 s ± 379 ms per loop (mean ± std. dev. of 7 runs, 1 loop each)\n",
    "Take a look at the results of three different methods, and check that they produce similar coherence decay. Note that the results obtained using gCCE with bath states sampling deviates from other ones (generalized and conventional CCE), as the chosen number of states (20) is not enough to converge."
   ]
  },
  {
   "cell_type": "code",
   "execution_count": null,
   "id": "a4074954",
   "metadata": {},
   "outputs": [],
   "source": [
    "plt.plot(time_space, l_conv.real,\n",
    "         label='conventional CCE')\n",
    "plt.plot(time_space, l_generatilze.real,\n",
    "         label='generalized CCE', ls='--')\n",
    "plt.plot(time_space, l_gcce.real,\n",
    "         label='gCCE with bath sampling', ls='', marker='.')\n",
    "plt.legend()\n",
    "plt.xlabel('Time (ms)')\n",
    "plt.ylabel('Coherence');"
   ]
  },
  {
   "cell_type": "markdown",
   "id": "01368ec5",
   "metadata": {},
   "source": [
    "# Convergence parameters\n",
    "Having confirmed that all methods produce the same results, we check the convergence of the conventional CCE with respect to order, r_bath, r_dipole parameters of the Simulator object.\n",
    "\n",
    "First, define all of the parameters."
   ]
  },
  {
   "cell_type": "code",
   "execution_count": null,
   "id": "42eb73a0",
   "metadata": {},
   "outputs": [],
   "source": [
    "parameters = dict(\n",
    "    order=2, # CCE order\n",
    "    r_bath=40,  # Size of the bath in A\n",
    "    r_dipole=8,  # Cutoff of pairwise clusters in A\n",
    "    position=[0, 0, 0], # Position of central Spin\n",
    "    alpha=[0, 0, 1],\n",
    "    beta=[0, 1, 0],\n",
    "    pulses = 1, # N pulses in CPMG sequence\n",
    "    magnetic_field=[0,0,500]\n",
    ") # Qubit levels)\n",
    "\n",
    "time_space = np.linspace(0, 2, 201)  # Time points in ms"
   ]
  },
  {
   "cell_type": "markdown",
   "id": "22b75542",
   "metadata": {},
   "source": [
    "We can define a little helper function to streamline the process. Note that resetting the parameters automatically recomputes the properties of the bath."
   ]
  },
  {
   "cell_type": "code",
   "execution_count": null,
   "id": "4f809fae",
   "metadata": {},
   "outputs": [],
   "source": [
    "def runner(variable, values):\n",
    "    invalue = parameters[variable]\n",
    "    calc = pc.Simulator(spin=1, bath=atoms, **parameters)\n",
    "    ls = []\n",
    "\n",
    "    for v in values:\n",
    "        setattr(calc, variable, v)\n",
    "        l = calc.compute(time_space, method='cce',\n",
    "                         quantity='coherence')\n",
    "\n",
    "        ls.append(l.real)\n",
    "\n",
    "    parameters[variable] = invalue\n",
    "    ls = pd.DataFrame(ls, columns=time_space, index=values).T\n",
    "    return ls"
   ]
  },
  {
   "cell_type": "markdown",
   "id": "126dfbe0",
   "metadata": {},
   "source": [
    "Now we can compute the coherence function at different values of the parameters:"
   ]
  },
  {
   "cell_type": "code",
   "execution_count": null,
   "id": "da19f091",
   "metadata": {},
   "outputs": [],
   "source": [
    "orders = runner('order', [1, 2, 3, 4])\n",
    "rbs = runner('r_bath', [20, 30, 40, 50, 60])\n",
    "rds = runner('r_dipole', [4, 6, 8, 10])"
   ]
  },
  {
   "cell_type": "markdown",
   "id": "b2e930b1",
   "metadata": {},
   "source": [
    "We can visualize the convergence of the coherence function with respect to different parameters:"
   ]
  },
  {
   "cell_type": "code",
   "execution_count": null,
   "id": "aece2da8",
   "metadata": {},
   "outputs": [],
   "source": [
    "fig, axes = plt.subplots(1, 3, figsize=(12, 3))\n",
    "orders.plot(ax=axes[0], title='order')\n",
    "rbs.plot(ax=axes[1], title='r_bath')\n",
    "rds.plot(ax=axes[2], title='r_dipole')\n",
    "for ax in axes:\n",
    "    ax.set(xlabel='Time (ms)', ylabel='Coherence')\n",
    "fig.tight_layout()"
   ]
  },
  {
   "cell_type": "markdown",
   "id": "5a3bc9fb",
   "metadata": {},
   "source": [
    "# Bath polarization\n",
    "To study different bath polarization we will modify BathArray.state attribute, which contains spin states for each bath spin. For simplicity we will assume the gaussian profile of the polarization."
   ]
  },
  {
   "cell_type": "code",
   "execution_count": null,
   "id": "4ab672c8",
   "metadata": {},
   "outputs": [],
   "source": [
    "def polarize(bath, gamma=5):\n",
    "    # Polarizations of each bath spin\n",
    "    if gamma > 0:\n",
    "        polos = np.exp(-(bath.dist()/gamma)**2) * 0.5\n",
    "    else:\n",
    "        polos = np.zeros(bath.size)\n",
    "\n",
    "    for a, pol in zip(bath, polos):\n",
    "\n",
    "        # Skip 14N\n",
    "        if a.N != '13C':\n",
    "            continue\n",
    "        # Generate density matrix\n",
    "        dm = np.zeros((2, 2), dtype=np.complex128)\n",
    "        dm[0,0] = 0.5 + pol\n",
    "        dm[1,1] = 0.5 - pol\n",
    "        a.state =  dm\n",
    "\n",
    "    return\n",
    "\n",
    "# Use already optimized parameters\n",
    "calc = pc.Simulator(spin=1, bath=atoms, **parameters)\n",
    "\n",
    "# Standard deviations of the polarization gaussian profile\n",
    "gammas = [0, 1, 2, 5, 10, 20, 30, 40, 60, 80]\n",
    "ls = []\n",
    "\n",
    "ts = np.linspace(0, 5, 501)\n",
    "for gamma in gammas:\n",
    "    polarize(calc.bath, gamma=gamma)\n",
    "    l = calc.compute(ts)\n",
    "    ls.append(l.real)\n",
    "\n",
    "df = pd.DataFrame(ls, columns=ts, index=gammas).T\n",
    "With increased polarization in the bath the Hahn-echo signal decays significantly slower.\n",
    "\n",
    "fig, ax = plt.subplots()\n",
    "df.plot(cmap='magma', ax=ax)\n",
    "ax.set(xlabel='Time (ms)', ylabel='Coherence');"
   ]
  }
 ],
 "metadata": {
  "kernelspec": {
   "display_name": "Capstone_environment",
   "language": "python",
   "name": "python3"
  },
  "language_info": {
   "codemirror_mode": {
    "name": "ipython",
    "version": 3
   },
   "file_extension": ".py",
   "mimetype": "text/x-python",
   "name": "python",
   "nbconvert_exporter": "python",
   "pygments_lexer": "ipython3",
   "version": "3.10.10"
  }
 },
 "nbformat": 4,
 "nbformat_minor": 5
}
