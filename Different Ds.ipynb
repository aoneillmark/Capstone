{
 "cells": [
  {
   "cell_type": "code",
   "execution_count": 187,
   "metadata": {},
   "outputs": [],
   "source": [
    "import numpy as np\n",
    "import matplotlib.pyplot as plt\n",
    "import pandas as pd\n",
    "\n",
    "import sys\n",
    "import pycce as pc\n",
    "import ase\n",
    "from ase.build import bulk\n",
    "\n",
    "from mpl_toolkits import mplot3d\n",
    "\n",
    "seed = 8805\n",
    "np.random.seed(seed)\n",
    "np.set_printoptions(suppress=True, precision=5)"
   ]
  },
  {
   "cell_type": "code",
   "execution_count": 188,
   "metadata": {},
   "outputs": [],
   "source": [
    "# Generate unitcell from ase\n",
    "diamond = bulk('C', 'diamond', cubic=True)\n",
    "diamond = pc.read_ase(diamond)"
   ]
  },
  {
   "cell_type": "code",
   "execution_count": 189,
   "metadata": {},
   "outputs": [
    {
     "data": {
      "text/plain": [
       "defaultdict(dict, {'C': {'13C': 0.011}})"
      ]
     },
     "execution_count": 189,
     "metadata": {},
     "output_type": "execute_result"
    }
   ],
   "source": [
    "# Populate Bath cell with isotopes\n",
    "diamond.add_isotopes(('13C', 0.011))"
   ]
  },
  {
   "cell_type": "code",
   "execution_count": 190,
   "metadata": {},
   "outputs": [],
   "source": [
    "# Set z-direction of the bath (defect)\n",
    "diamond.zdir = [1, 1, 1]"
   ]
  },
  {
   "cell_type": "code",
   "execution_count": 191,
   "metadata": {},
   "outputs": [],
   "source": [
    "# Generate spin bath\n",
    "### Add the defect. remove and add atoms at the positions (in cell coordinates)\n",
    "atoms = diamond.gen_supercell(200, remove=[('C', [0., 0, 0]),\n",
    "                                           ('C', [0.5, 0.5, 0.5])],\n",
    "                              add=('14N', [0.5, 0.5, 0.5]),\n",
    "                              seed=seed)\n",
    "\n",
    "# Note, that because the 14C isotope doesn’t have a spin, PyCCE does not find it in common isotopes, and raises a warning. We have to provide SpinType for it separately, or define the properties as follows:\n",
    "atoms['14C'].gyro = 0\n",
    "atoms['14C'].spin = 0"
   ]
  },
  {
   "cell_type": "code",
   "execution_count": 212,
   "metadata": {},
   "outputs": [],
   "source": [
    "# Setting up the Simulator\n",
    "\n",
    "### Parameters of CCE calculations engine\n",
    "# Order of CCE aproximation\n",
    "order = 2\n",
    "# Bath cutoff radius\n",
    "r_bath = 40  # in A\n",
    "# Cluster cutoff radius\n",
    "r_dipole = 8  # in A\n",
    "\n",
    "# position of central spin\n",
    "position = [0, 0, 0]\n",
    "# Qubit levels (in Sz basis)\n",
    "alpha = [0, 0, 1]; beta = [0, 1, 0]\n",
    "# ZFS Parametters of NV center in diamond\n",
    "D = 1.88 * 1e10 # in kHz\n",
    "E = 0 # in kHz\n",
    "nv = pc.CenterArray(spin=1, position=position, D=D, E=E, alpha=alpha, beta=beta)\n",
    "\n",
    "# The code already knows most exsiting isotopes.\n",
    "#              Bath spin types\n",
    "#              name    spin    gyro       quadrupole (for s>1/2)\n",
    "spin_types = [('14N',  1,      1.9338,    20.44),\n",
    "              ('13C',  1 / 2,  6.72828),\n",
    "              ('29Si', 1 / 2, -5.3188),]\n",
    "atoms.add_type(*spin_types)"
   ]
  },
  {
   "cell_type": "code",
   "execution_count": 213,
   "metadata": {},
   "outputs": [
    {
     "name": "stdout",
     "output_type": "stream",
     "text": [
      "CenterArray\n",
      "(s: [1.],\n",
      "xyz:\n",
      "[[0. 0. 0.]],\n",
      "zfs:\n",
      "[[[-6.26667e+09  0.00000e+00  0.00000e+00]\n",
      "  [ 0.00000e+00 -6.26667e+09  0.00000e+00]\n",
      "  [ 0.00000e+00  0.00000e+00  1.25333e+10]]],\n",
      "gyro:\n",
      "[[[-17608.59705     -0.          -0.     ]\n",
      "  [    -0.      -17608.59705     -0.     ]\n",
      "  [    -0.          -0.      -17608.59705]]])\n"
     ]
    }
   ],
   "source": [
    "print(nv)"
   ]
  },
  {
   "cell_type": "code",
   "execution_count": 214,
   "metadata": {},
   "outputs": [],
   "source": [
    "# Setting the Simulator object\n",
    "### Setting the runner engine\n",
    "calc = pc.Simulator(spin=nv, bath=atoms, D=D,\n",
    "                    r_bath=r_bath, r_dipole=r_dipole, order=order)"
   ]
  },
  {
   "cell_type": "code",
   "execution_count": 215,
   "metadata": {},
   "outputs": [],
   "source": [
    "# calc.set_zfs(D=D, E=E)"
   ]
  },
  {
   "cell_type": "code",
   "execution_count": 216,
   "metadata": {},
   "outputs": [
    {
     "name": "stdout",
     "output_type": "stream",
     "text": [
      "Simulator for center array of size 1.\n",
      "magnetic field:\n",
      "array([0., 0., 0.])\n",
      "\n",
      "Parameters of cluster expansion:\n",
      "r_bath: 40\n",
      "r_dipole: 8\n",
      "order: 2\n",
      "\n",
      "Bath consists of 506 spins.\n",
      "\n",
      "Clusters include:\n",
      "506  clusters of order 1.\n",
      "876  clusters of order 2.\n",
      "\n"
     ]
    }
   ],
   "source": [
    "print(calc)"
   ]
  },
  {
   "cell_type": "code",
   "execution_count": 217,
   "metadata": {},
   "outputs": [],
   "source": [
    "# Taking advantage of subclassing np.ndarray we can change in situ the quadrupole tensor of the Nitrogen nuclear spin.\n",
    "nspin = calc.bath\n",
    "# Set model quadrupole tensor at N atom\n",
    "quad = np.asarray([[-2.5, 0, 0],\n",
    "                   [0, -2.5, 0],\n",
    "                   [0, 0,  5.0]]) * 1e3 * 2 * np.pi\n",
    "\n",
    "nspin['Q'][nspin['N'] == '14N'] = quad"
   ]
  },
  {
   "cell_type": "code",
   "execution_count": 218,
   "metadata": {},
   "outputs": [
    {
     "name": "stdout",
     "output_type": "stream",
     "text": [
      "Simulator for center array of size 1.\n",
      "magnetic field:\n",
      "array([0., 0., 0.])\n",
      "\n",
      "Parameters of cluster expansion:\n",
      "r_bath: 40\n",
      "r_dipole: 8\n",
      "order: 2\n",
      "\n",
      "Bath consists of 506 spins.\n",
      "\n",
      "Clusters include:\n",
      "506  clusters of order 1.\n",
      "876  clusters of order 2.\n",
      "\n"
     ]
    }
   ],
   "source": [
    "print(calc)"
   ]
  },
  {
   "cell_type": "code",
   "execution_count": 219,
   "metadata": {},
   "outputs": [],
   "source": [
    "# Time points\n",
    "time_space = np.linspace(0, 2, 201)  # in ms\n",
    "# Number of pulses in CPMG seq (0 = FID, 1 = HE)\n",
    "n = 1\n",
    "# Mag. Field (Bx By Bz)\n",
    "b = np.array([0, 0, 500])  # in G\n",
    "\n",
    "# Hahn-echo pulse sequence\n",
    "pulse_sequence = [pc.Pulse('x', np.pi)]\n",
    "\n",
    "# Calculate coherence function\n",
    "l_generatilze = calc.compute(time_space, magnetic_field=0,\n",
    "                             pulses=pulse_sequence,\n",
    "                             method='gcce', quantity='coherence')"
   ]
  },
  {
   "cell_type": "code",
   "execution_count": 220,
   "metadata": {},
   "outputs": [
    {
     "data": {
      "text/plain": [
       "array([ 1.     +0.j     ,  0.99992-0.j     ,  0.99911+0.j     ,\n",
       "        0.99641-0.j     ,  0.98975+0.j     ,  0.97754-0.j     ,\n",
       "        0.95718-0.j     ,  0.92714+0.j     ,  0.88862+0.00001j,\n",
       "        0.84025-0.j     ,  0.77875-0.00003j,  0.71152+0.00003j,\n",
       "        0.63892-0.00001j,  0.56112+0.00001j,  0.48558+0.j     ,\n",
       "        0.40955-0.00005j,  0.34011+0.00004j,  0.28078+0.00001j,\n",
       "        0.22685-0.00002j,  0.18056-0.00003j,  0.14563+0.00001j,\n",
       "        0.11818-0.j     ,  0.09652-0.00002j,  0.08078-0.00001j,\n",
       "        0.06757-0.00005j,  0.05878+0.00002j,  0.05294-0.00003j,\n",
       "        0.04635-0.00006j,  0.04088-0.00003j,  0.03674-0.00005j,\n",
       "        0.03263-0.00003j,  0.02904-0.00006j,  0.02518-0.00006j,\n",
       "        0.02069-0.00006j,  0.01759-0.00003j,  0.01472-0.00004j,\n",
       "        0.01146-0.00006j,  0.00916-0.00002j,  0.00729-0.00003j,\n",
       "        0.00567-0.00002j,  0.0045 -0.00002j,  0.00339-0.00002j,\n",
       "        0.00253-0.00001j,  0.00206-0.00001j,  0.00157-0.00001j,\n",
       "        0.00113-0.00001j,  0.00087-0.j     ,  0.00066-0.j     ,\n",
       "        0.0005 -0.j     ,  0.00038-0.j     ,  0.00025-0.j     ,\n",
       "        0.00017+0.j     ,  0.00013-0.j     ,  0.00008-0.j     ,\n",
       "        0.00005-0.j     ,  0.00004-0.j     ,  0.00002+0.j     ,\n",
       "        0.00002+0.j     ,  0.00001-0.j     ,  0.00001-0.j     ,\n",
       "        0.     +0.j     ,  0.     +0.j     ,  0.     -0.j     ,\n",
       "        0.     +0.j     ,  0.     -0.j     ,  0.     +0.j     ,\n",
       "        0.     -0.j     ,  0.     -0.j     ,  0.     -0.j     ,\n",
       "        0.     -0.j     ,  0.     -0.j     ,  0.     -0.j     ,\n",
       "        0.     -0.j     ,  0.     -0.j     ,  0.     -0.j     ,\n",
       "        0.     -0.j     ,  0.     -0.j     ,  0.     -0.j     ,\n",
       "        0.     -0.j     ,  0.     -0.j     ,  0.     -0.j     ,\n",
       "        0.     -0.j     ,  0.     -0.j     ,  0.     -0.j     ,\n",
       "        0.     -0.j     ,  0.     -0.j     ,  0.     +0.j     ,\n",
       "        0.     -0.j     ,  0.     -0.j     ,  0.     -0.j     ,\n",
       "        0.     -0.j     ,  0.     +0.j     ,  0.     -0.j     ,\n",
       "        0.     -0.j     ,  0.     -0.j     ,  0.     +0.j     ,\n",
       "        0.     -0.j     ,  0.     -0.j     ,  0.     +0.j     ,\n",
       "        0.     -0.j     ,  0.     +0.j     ,  0.     -0.j     ,\n",
       "        0.     -0.j     ,  0.     -0.j     ,  0.     -0.j     ,\n",
       "        0.     -0.j     ,  0.     -0.j     ,  0.     -0.j     ,\n",
       "        0.     -0.j     ,  0.     -0.j     ,  0.     -0.j     ,\n",
       "        0.     -0.j     ,  0.     -0.j     ,  0.     -0.j     ,\n",
       "        0.     -0.j     ,  0.     -0.j     ,  0.     -0.j     ,\n",
       "        0.     -0.j     ,  0.     -0.j     ,  0.     -0.j     ,\n",
       "        0.     -0.j     ,  0.     -0.j     ,  0.     -0.j     ,\n",
       "        0.     -0.j     ,  0.     -0.j     ,  0.     -0.j     ,\n",
       "        0.     +0.j     ,  0.     -0.j     ,  0.     -0.j     ,\n",
       "        0.     +0.j     ,  0.     +0.j     ,  0.     +0.j     ,\n",
       "        0.     -0.j     , -0.     -0.j     , -0.     +0.j     ,\n",
       "        0.     +0.j     ,  0.     +0.j     ,  0.     -0.j     ,\n",
       "        0.     +0.j     ,  0.     -0.j     , -0.     -0.j     ,\n",
       "       -0.     -0.j     , -0.     +0.j     , -0.     -0.j     ,\n",
       "       -0.     -0.j     , -0.     -0.j     , -0.     +0.j     ,\n",
       "        0.     +0.j     ,  0.     -0.j     ,  0.     +0.j     ,\n",
       "        0.     -0.j     ,  0.     -0.j     ,  0.     +0.j     ,\n",
       "        0.     -0.j     ,  0.     -0.j     ,  0.     -0.j     ,\n",
       "       -0.     -0.j     ,  0.     +0.j     ,  0.     +0.j     ,\n",
       "        0.     +0.j     ,  0.     -0.j     ,  0.     +0.j     ,\n",
       "        0.     +0.j     ,  0.     -0.j     ,  0.     +0.j     ,\n",
       "        0.     -0.j     ,  0.     +0.j     ,  0.     +0.j     ,\n",
       "        0.     -0.j     ,  0.     -0.j     ,  0.     +0.j     ,\n",
       "        0.     +0.j     ,  0.     -0.j     ,  0.     +0.j     ,\n",
       "        0.     -0.j     ,  0.     +0.j     ,  0.     +0.j     ,\n",
       "        0.     -0.j     ,  0.     +0.j     ,  0.     +0.j     ,\n",
       "        0.     +0.j     ,  0.     -0.j     , -0.     -0.j     ,\n",
       "       -0.     -0.j     ,  0.     +0.j     ,  0.     +0.j     ,\n",
       "       -0.     +0.j     , -0.     -0.j     , -0.     -0.j     ,\n",
       "       -0.     +0.j     , -0.     -0.j     , -0.     +0.j     ,\n",
       "        0.     +0.j     ,  0.     +0.j     ,  0.     -0.j     ,\n",
       "        0.     -0.j     , -0.     -0.j     , -0.     -0.j     ,\n",
       "       -0.     +0.j     ,  0.     +0.j     ,  0.     -0.j     ])"
      ]
     },
     "execution_count": 220,
     "metadata": {},
     "output_type": "execute_result"
    }
   ],
   "source": [
    "calc.compute(time_space, magnetic_field=0,\n",
    "             pulses=pulse_sequence,\n",
    "             method='gcce',\n",
    "             quantity='coherence')\n"
   ]
  },
  {
   "cell_type": "code",
   "execution_count": 221,
   "metadata": {},
   "outputs": [
    {
     "name": "stderr",
     "output_type": "stream",
     "text": [
      "/Users/markoneill/Desktop/Physics/SS/Capstone/VScode Capstone Folder/Capstone_environment/lib/python3.10/site-packages/matplotlib/cbook/__init__.py:1345: ComplexWarning: Casting complex values to real discards the imaginary part\n",
      "  return np.asarray(x, float)\n"
     ]
    },
    {
     "data": {
      "text/plain": [
       "[<matplotlib.lines.Line2D at 0x13af4cb80>]"
      ]
     },
     "execution_count": 221,
     "metadata": {},
     "output_type": "execute_result"
    },
    {
     "data": {
      "image/png": "[encoded data removed]",
      "text/plain": [
       "<Figure size 640x480 with 1 Axes>"
      ]
     },
     "metadata": {},
     "output_type": "display_data"
    }
   ],
   "source": [
    "plt.plot(time_space,l_generatilze)"
   ]
  },
  {
   "cell_type": "code",
   "execution_count": null,
   "metadata": {},
   "outputs": [],
   "source": []
  },
  {
   "cell_type": "code",
   "execution_count": null,
   "metadata": {},
   "outputs": [],
   "source": []
  },
  {
   "cell_type": "code",
   "execution_count": null,
   "metadata": {},
   "outputs": [],
   "source": []
  },
  {
   "cell_type": "code",
   "execution_count": 34,
   "metadata": {},
   "outputs": [],
   "source": [
    "# Generate the BathCell object. Here we use the interface with ase which can effortlessly generate unit cells of many materials. As an example, we import the diamond structure.\n",
    "cell = pc.BathCell.from_ase(bulk('C', 'diamond', cubic=True))\n",
    "\n",
    "# Using the BathCell object, generate spin bath of the most common isotopes in the material. Here we generate the spin bath of size 200 Angstrom and remove one carbon, where the spin of interest is located, from the diamond crystal lattice.\n",
    "# This function returns the BathArray instance, which contains names of the bath spins in 'N', their coordinates in angstrom in 'xyz', empty arrays of hyperfine couplings in kHz in 'A', and quadrupole couplings in kHz in 'Q' namefields. The hyperfine couplings will be generated by Simulator in the next step. For alternative ways to define hyperfine couplings see Hamiltonian Parameters Input.\n",
    "atoms = cell.gen_supercell(200, remove=('C', [0, 0, 0]))\n",
    "\n",
    "# Setup the Simulator using the generated spin bath. The first required argument spin is the total spin of the central spin or the CenterArray instance, containing properties of the central spins. r_bath, r_dipole and order are convergence parameters (see the Tutorials for examples of convergence), magnetic_field is the external applied magnetic field along the z-axis, and pulses is the number of decoupling (pi) pulses in Carr-Purcell-Meiboom-Gill (CPMG) sequence or a more complicated sequence, set with Pulse objects.\n",
    "# The hyperfine couplings are automatically generated at this step assuming point dipole-dipole interactions between central spin and bath spins.\n",
    "calc = pc.Simulator(spin=1, position=[0, 0, 0], bath=atoms, r_bath=40,\n",
    "                    r_dipole=6, order=2, magnetic_field=500, pulses=1)"
   ]
  },
  {
   "cell_type": "code",
   "execution_count": 35,
   "metadata": {},
   "outputs": [],
   "source": [
    "# Compute the coherence function of the qubit using .compute method of the Simulator object with conventional CCE.\n",
    "time_points = np.linspace(0, 2, 101)\n",
    "coherence = calc.compute(time_points)"
   ]
  },
  {
   "cell_type": "code",
   "execution_count": 36,
   "metadata": {},
   "outputs": [
    {
     "data": {
      "text/plain": [
       "[<matplotlib.lines.Line2D at 0x139e36230>]"
      ]
     },
     "execution_count": 36,
     "metadata": {},
     "output_type": "execute_result"
    },
    {
     "data": {
      "image/png": "[encoded data removed]",
      "text/plain": [
       "<Figure size 640x480 with 1 Axes>"
      ]
     },
     "metadata": {},
     "output_type": "display_data"
    }
   ],
   "source": [
    "# Plotting the coherence as a function of time.\n",
    "plt.plot(time_points, coherence)"
   ]
  },
  {
   "cell_type": "code",
   "execution_count": null,
   "metadata": {},
   "outputs": [],
   "source": []
  },
  {
   "cell_type": "code",
   "execution_count": null,
   "metadata": {},
   "outputs": [],
   "source": []
  }
 ],
 "metadata": {
  "kernelspec": {
   "display_name": "Capstone_environment",
   "language": "python",
   "name": "python3"
  },
  "language_info": {
   "codemirror_mode": {
    "name": "ipython",
    "version": 3
   },
   "file_extension": ".py",
   "mimetype": "text/x-python",
   "name": "python",
   "nbconvert_exporter": "python",
   "pygments_lexer": "ipython3",
   "version": "3.10.10"
  },
  "orig_nbformat": 4
 },
 "nbformat": 4,
 "nbformat_minor": 2
}
