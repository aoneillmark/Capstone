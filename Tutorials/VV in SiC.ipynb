{
 "cells": [
  {
   "cell_type": "markdown",
   "id": "b985f882",
   "metadata": {},
   "source": [
    "# VV in SiC\n",
    "An example of computing Free Induction Decay (FID) and Hahn-echo (HE) with hyperfine couplings from GIPAW for axial and basal divacancies."
   ]
  },
  {
   "cell_type": "code",
   "execution_count": 1,
   "id": "6be96479",
   "metadata": {},
   "outputs": [
    {
     "name": "stderr",
     "output_type": "stream",
     "text": [
      "/Users/markoneill/Desktop/Physics/SS/Capstone/VScode Capstone Folder/Capstone_environment/lib/python3.10/site-packages/numba/core/decorators.py:262: NumbaDeprecationWarning: numba.generated_jit is deprecated. Please see the documentation at: https://numba.readthedocs.io/en/stable/reference/deprecation.html#deprecation-of-generated-jit for more information and advice on a suitable replacement.\n",
      "  warnings.warn(msg, NumbaDeprecationWarning)\n"
     ]
    }
   ],
   "source": [
    "import numpy as np\n",
    "import matplotlib.pyplot as plt\n",
    "import sys\n",
    "import ase\n",
    "import pandas as pd\n",
    "import warnings\n",
    "import pycce as pc\n",
    "\n",
    "np.set_printoptions(suppress=True, precision=5)\n",
    "warnings.simplefilter(\"ignore\")\n",
    "\n",
    "seed = 8805"
   ]
  },
  {
   "cell_type": "markdown",
   "id": "8f229149",
   "metadata": {},
   "source": [
    "# Axial kk-VV\n",
    "First we compute FID and HE for axial divacancy.\n",
    "\n",
    "# Build BathCell from the ground\n",
    "One can set up a BathCell instance by providing the parameters of the unit cell, or cell argument as 3x3 tensor, where each column defines a, b, c unit cell vectors in cartesian coordinates.\n",
    "In this tutorial we use the first approach."
   ]
  },
  {
   "cell_type": "code",
   "execution_count": 2,
   "id": "aa35c006",
   "metadata": {},
   "outputs": [
    {
     "data": {
      "text/plain": [
       "defaultdict(list,\n",
       "            {'Si': [array([0.   , 0.   , 0.188]),\n",
       "              array([0.   , 0.   , 0.688]),\n",
       "              array([0.33333, 0.66667, 0.438  ]),\n",
       "              array([0.66667, 0.33333, 0.938  ])],\n",
       "             'C': [array([0., 0., 0.]),\n",
       "              array([0. , 0. , 0.5]),\n",
       "              array([0.33333, 0.66667, 0.25   ]),\n",
       "              array([0.66667, 0.33333, 0.75   ])]})"
      ]
     },
     "execution_count": 2,
     "metadata": {},
     "output_type": "execute_result"
    }
   ],
   "source": [
    "# Set up unit cell with (a, b, c, alpha, beta, gamma)\n",
    "sic = pc.BathCell(3.073, 3.073, 10.053, 90, 90, 120, 'deg')\n",
    "# z axis in cell coordinates\n",
    "sic.zdir = [0, 0, 1]\n",
    "# Next, user has to define positions of atoms in the unit cell. It is done with BathCell.add_atoms function. It takes an unlimited number of arguments, each argument is a tuple. First element of the tuple is the name of the atom, second - list of xyz coordinates either in cell units (if keyword type='cell', default value) or in Angstrom (if keyword type='angstrom'). Returns BathCell.atoms dictionary, which contains list of coordinates for each type of elements.\n",
    "# position of atoms\n",
    "sic.add_atoms(('Si', [0.00000000, 0.00000000, 0.1880]),\n",
    "              ('Si', [0.00000000, 0.00000000, 0.6880]),\n",
    "              ('Si', [0.33333333, 0.66666667, 0.4380]),\n",
    "              ('Si', [0.66666667, 0.33333333, 0.9380]),\n",
    "              ('C', [0.00000000, 0.00000000, 0.0000]),\n",
    "              ('C', [0.00000000, 0.00000000, 0.5000]),\n",
    "              ('C', [0.33333333, 0.66666667, 0.2500]),\n",
    "              ('C', [0.66666667, 0.33333333, 0.7500]))"
   ]
  },
  {
   "cell_type": "markdown",
   "id": "21340c45",
   "metadata": {},
   "source": [
    "Two types of isotopes present in SiC: \n",
    "- Si \n",
    "- C \n",
    "\n",
    "We add this information with the BathCell.add_isotopes function. The code knows most of the concentrations, so this step is actually unnecessary. If no isotopes is provided, the natural concentration of common magnetic isotopes is assumed."
   ]
  },
  {
   "cell_type": "code",
   "execution_count": 3,
   "id": "03d4f739",
   "metadata": {},
   "outputs": [],
   "source": [
    "# isotopes\n",
    "sic.add_isotopes(('29Si', 0.047), ('13C', 0.011))\n",
    "\n",
    "# defect position in cell units\n",
    "vsi_cell = [0, 0, 0.1880]\n",
    "vc_cell = [0, 0, 0]\n",
    "\n",
    "# Generate bath spin positions\n",
    "atoms = sic.gen_supercell(200, remove=[('Si', vsi_cell),\n",
    "                                       ('C', vc_cell)],\n",
    "                          seed=seed)"
   ]
  },
  {
   "cell_type": "markdown",
   "id": "5a1991ee",
   "metadata": {},
   "source": [
    "# Read Quantum Espresso output\n",
    "PyCCE provides a helper function read_qe in pycce.io module to read hyperfine couplings from quantum espresso output. read_qe takes from 1 to 3 positional arguments:\n",
    "- pwfile: name of the pw input/output file;\n",
    "- hyperfine: name of the gipaw output file containing hyperfine couplings;\n",
    "- efg: name of the gipaw output file containing electric field tensor calculations.\n",
    "\n",
    "During its call, read_qe will read the cell matrix in pw file and apply it to the coordinates is necessary. However, usually we still need to rotate and translate the Quantum Espresso supercell to align it with our BathArray. To do so we can provide additional keywords arguments center and rotation_matrix. center is the position of (0, 0, 0) point in coordinates of pw file, and rotation_matrix is rotation matrix which aligns z-direction of the GIPAW output. This matrix, acting on the (0, 0, 1) in Cartesian coordinates of GIPAW output should produce (a, b, c) vector, aligned with zdirection of the BathCell. Keyword argument rm_style shows whether rotation_matrix contains coordinates of new basis set as rows ('row', common in physics) or as columns ('col', common in maths).\n",
    "\n",
    "This part of the tutorial is explaining how to use a specific function (read_qe) from the pycce.io module, which is part of the PyCCE package, to read and process output files generated by Quantum Espresso (a widely-used software package for quantum chemistry and solid-state physics simulations) during certain calculations. Here's a step-by-step breakdown of each portion of the excerpt:\n",
    "\n",
    "### 1. Reading Quantum Espresso Output with read_qe\n",
    "The read_qe function helps in reading the output files generated by Quantum Espresso, particularly focusing on hyperfine couplings and electric field tensor calculations which are vital in computational studies involving magnetic resonance.\n",
    "\n",
    "### 2. Positional Arguments of read_qe\n",
    "pwfile: This argument is used to specify the name (or path) of the input/output file generated by Quantum Espresso during a plane-wave calculation (indicated by \"pw\"). This file contains essential details about the structure and conditions of the calculation.\n",
    "\n",
    "hyperfine: This argument indicates the name (or path) of the GIPAW output file which contains data regarding hyperfine couplings. Hyperfine couplings are crucial parameters when studying nuclear spin interactions in materials.\n",
    "\n",
    "efg: This argument is for specifying the name (or path) of the GIPAW output file that contains the results of electric field gradient tensor calculations. These tensors are important in studies involving nuclear quadrupole interactions.\n",
    "\n",
    "### 3. Post-Processing and Alignment with BathArray\n",
    "After reading in the necessary data, additional steps might be needed to properly align the simulation cell (from Quantum Espresso) with the coordinate system used in the PyCCE package (referred to as BathArray).\n",
    "\n",
    "Center: This keyword argument specifies the coordinates of the origin (0, 0, 0) in the coordinate system used in the pwfile. This helps in aligning the simulation cells properly.\n",
    "\n",
    "Rotation_Matrix: This is a matrix that is used to align the z-direction of the GIPAW output with the z-direction of the BathCell in PyCCE. This matrix acts on a unit vector along the z-direction in the GIPAW Cartesian coordinate system to produce a new vector (a, b, c) that is aligned with the z-direction in the BathCell coordinate system.\n",
    "\n",
    "rm_style: This argument indicates the orientation of the basis vectors in the rotation matrix. If it is 'row', the basis vectors are represented as rows in the matrix (common in physics), whereas if it's 'col', they are represented as columns (common in mathematics)."
   ]
  },
  {
   "cell_type": "code",
   "execution_count": 12,
   "id": "3caa39f5",
   "metadata": {},
   "outputs": [],
   "source": [
    "# Prepare rotation matrix to align with z axis of generated atoms\n",
    "# This matrix, acting on the [0, 0, 1] in Cartesian coordinates of the GIPAW output,\n",
    "# Should produce [a, b, c] vector, aligned with the z-direction of the BathCell\n",
    "M = np.array([[0, 0, -1],\n",
    "              [0, -1, 0],\n",
    "              [-1, 0, 0]])\n",
    "\n",
    "# Position of (0,0,0) point in cell coordinates\n",
    "center = [0.6, 0.5, 0.5]\n",
    "# Read GIPAW results\n",
    "exatoms = pc.read_qe('axial/pw.in',\n",
    "                     hyperfine='axial/gipaw.out',\n",
    "                     center=center, rotation_matrix=M,\n",
    "                     rm_style='col',\n",
    "                     isotopes={'C':'13C', 'Si':'29Si'})\n"
   ]
  },
  {
   "cell_type": "markdown",
   "id": "cd2c3f62",
   "metadata": {},
   "source": [
    "`pc.read_qe` produces an instance of BathArray, with names of bath spins being the most common isotopes of the respective elements (if the keyword `isotopes` is set to None) or derived from the mapping provided by the `isotopes` argument.\n",
    "\n",
    "## Set up CCE Simulator\n",
    "In this example, we set up a bare Simulator and add the properties of the spin bath later."
   ]
  },
  {
   "cell_type": "code",
   "execution_count": null,
   "id": "dd459d43",
   "metadata": {},
   "outputs": [],
   "source": [
    "# Setting up CCE calculations\n",
    "pos = sic.to_cartesian(vsi_cell)\n",
    "CCE_order = 2\n",
    "r_bath = 40\n",
    "r_dipole = 8\n",
    "B = np.array([0, 0, 500])\n",
    "\n",
    "calc = pc.Simulator(1, pos, alpha=[0, 0, 1], beta=[0, 1, 0], magnetic_field=B)\n",
    "# Function Simulator.read_bath can be called explicitly to initialize the spin bath. The additional keyword argument external_bath takes an instance of BathArray with hyperfine couplings read from Quantum Espresso. The program then identifies the spins with the same name at the same positions (within the range defined by the error_range keyword argument) in the total bath and sets their hyperfine couplings.\n",
    "# Finally, we call Simulator.generate_clusters to identify the bath spin clusters in the provided bath.\n",
    "calc.read_bath(atoms, r_bath, external_bath=exatoms);\n",
    "calc.generate_clusters(CCE_order, r_dipole=r_dipole);"
   ]
  },
  {
   "cell_type": "markdown",
   "id": "f763bc4c",
   "metadata": {},
   "source": [
    "## FID with DFT Hyperfine Couplings\n",
    "In this segment, the `pulses` argument is provided directly to the compute function, instead of during the initialization of the Simulator object."
   ]
  },
  {
   "cell_type": "code",
   "execution_count": null,
   "id": "f766c036",
   "metadata": {},
   "outputs": [],
   "source": [
    "time_space = np.linspace(0, 0.01, 501)\n",
    "N = 0\n",
    "\n",
    "ldft = calc.compute(time_space, pulses=N, as_delay=False)"
   ]
  },
  {
   "cell_type": "markdown",
   "id": "802129cf",
   "metadata": {},
   "source": [
    "## FID with Hyperfine Couplings from Point Dipole Approximation"
   ]
  },
  {
   "cell_type": "code",
   "execution_count": null,
   "id": "2800691c",
   "metadata": {},
   "outputs": [],
   "source": [
    "pdcalc = pc.Simulator(1, pos, alpha=[0, 0, 1], beta=[0, 1, 0], magnetic_field=B,\n",
    "                      bath=atoms, r_bath=r_bath, order=CCE_order, r_dipole=r_dipole)\n",
    "lpd = pdcalc.compute(time_space, pulses=N, as_delay=False)"
   ]
  },
  {
   "cell_type": "markdown",
   "id": "1d888daf",
   "metadata": {},
   "source": [
    "Now we will plot the results and verify that the predictions are significantly different."
   ]
  },
  {
   "cell_type": "code",
   "execution_count": null,
   "id": "f5202ee8",
   "metadata": {},
   "outputs": [],
   "source": [
    "plt.plot(time_space, lpd.real, label='point dipole')\n",
    "plt.plot(time_space, ldft.real, label='DFT')\n",
    "plt.legend()\n",
    "plt.xlabel('Time (ms)')\n",
    "plt.ylabel('L');"
   ]
  },
  {
   "cell_type": "markdown",
   "id": "43020702",
   "metadata": {},
   "source": [
    "## Hahn-echo Comparison\n",
    "Now, we will compare the predictions for the Hahn-echo signal using different hyperfine couplings."
   ]
  },
  {
   "cell_type": "code",
   "execution_count": null,
   "id": "3ca14873",
   "metadata": {},
   "outputs": [],
   "source": [
    "he_time = np.linspace(0, 2.5, 501)\n",
    "B = np.array([0, 0, 500])\n",
    "N = 1\n",
    "\n",
    "he_ldft = calc.compute(he_time, magnetic_field=B, pulses=N, as_delay=False)\n",
    "he_lpd = pdcalc.compute(he_time, magnetic_field=B, pulses=N, as_delay=False)"
   ]
  },
  {
   "cell_type": "markdown",
   "id": "d2aaa01e",
   "metadata": {},
   "source": [
    "Next, we plot the results and make a comparison. It is observed that the modulations in the electron spin echo differ significantly, while the observed decay remains roughly the same."
   ]
  },
  {
   "cell_type": "code",
   "execution_count": null,
   "id": "520aaeb9",
   "metadata": {},
   "outputs": [],
   "source": [
    "plt.plot(he_time, he_ldft.real, label='DFT')\n",
    "plt.plot(he_time, he_lpd.real, label='point dipole')\n",
    "\n",
    "plt.legend()\n",
    "plt.xlabel('Time (ms)')\n",
    "plt.ylabel('L');"
   ]
  },
  {
   "cell_type": "markdown",
   "id": "96085206",
   "metadata": {},
   "source": [
    "## Basal kh-VV in SiC\n",
    "In this section, we focus on the basal divacancy's Hamiltonian which incorporates both D and E terms, facilitating the mixing between +1 and -1 spin levels even at zero field. Consequently, one can either employ the generalized CCE or add supplementary perturbational Hamiltonian terms. In this instance, the generalized CCE framework is utilized.\n",
    "\n",
    "Firstly, we need to prepare the rotation matrix for the DFT results. Although the same supercell was employed to compute the hyperfine couplings, the z-axis of the electron spin qubit aligns with the Si-C bond, necessitating the rotation of the DFT supercell accordingly."
   ]
  },
  {
   "cell_type": "code",
   "execution_count": null,
   "id": "3f8e3ce2",
   "metadata": {},
   "outputs": [],
   "source": [
    "# Coordinates of vacancies in cell coordinates (note that Vsi is not located in the first unit cell)\n",
    "vsi_cell = -np.array([1 / 3, 2 / 3, 0.0620])\n",
    "vc_cell = np.array([0, 0, 0])\n",
    "\n",
    "sic.zdir = [0, 0, 1]\n",
    "\n",
    "# Rotation matrix for DFT supercell\n",
    "R = pc.rotmatrix([0, 0, 1], sic.to_cartesian(vsi_cell - vc_cell))"
   ]
  },
  {
   "cell_type": "markdown",
   "id": "6403db96",
   "metadata": {},
   "source": [
    "To initialize the total spin bath, simply set the z-direction of the BathCell object accordingly."
   ]
  },
  {
   "cell_type": "code",
   "execution_count": null,
   "id": "4170cfe3",
   "metadata": {},
   "outputs": [],
   "source": [
    "sic.zdir = vsi_cell - vc_cell\n",
    "\n",
    "# Generate bath spin positions\n",
    "sic.add_isotopes(('29Si', 0.047), ('13C', 0.011))\n",
    "atoms = sic.gen_supercell(200, remove=[('Si', vsi_cell),\n",
    "                                       ('C', vc_cell)],\n",
    "                          seed=seed)"
   ]
  },
  {
   "cell_type": "markdown",
   "id": "1d9c8d30",
   "metadata": {},
   "source": [
    "First, read the DFT results using the `read_qe` function. To accurately rotate into the correct frame, it is necessary to apply both basis changes sequentially."
   ]
  },
  {
   "cell_type": "code",
   "execution_count": null,
   "id": "69a9cc36",
   "metadata": {},
   "outputs": [],
   "source": [
    "M = np.array([[0, 0, -1],\n",
    "              [0, -1, 0],\n",
    "              [-1, 0, 0]])\n",
    "\n",
    "# Position of (0,0,0) point in cell coordinates\n",
    "center = np.array([0.59401, 0.50000, 0.50000])\n",
    "\n",
    "# Read GIPAW results\n",
    "exatoms = pc.read_qe('basal/pw.in',\n",
    "                     hyperfine='basal/gipaw.out',\n",
    "                     center=center, rotation_matrix=(M.T @ R),\n",
    "                     rm_style='col',\n",
    "                     isotopes={'C':'13C', 'Si':'29Si'})"
   ]
  },
  {
   "cell_type": "markdown",
   "id": "ee6ac50c",
   "metadata": {},
   "source": [
    "To ensure the rotations were executed correctly, we can use the `pc.same_bath_indexes` function to identify the indices where the BathArray and the DFT output coincide. This function returns a tuple with indices representing elements with identical positions and names from both BathArray instances. We will generate a supercell with the BathCell class, containing only 100% isotopes, and verify that the number of found indices matches the size of the DFT supercell."
   ]
  },
  {
   "cell_type": "code",
   "execution_count": null,
   "id": "ecee42fd",
   "metadata": {},
   "outputs": [],
   "source": [
    "# isotopes\n",
    "sic.add_isotopes(('29Si', 1), ('13C', 1))\n",
    "allcell = sic.gen_supercell(50, remove=[('Si', vsi_cell),\n",
    "                                        ('C', vc_cell)],\n",
    "                            seed=seed)\n",
    "\n",
    "indexes, ext_indexes = pc.same_bath_indexes(allcell, exatoms, 0.2, True)\n",
    "print(f\"There are {indexes.size} same elements.\"\n",
    "      f\" Size of the DFT supercell is {exatoms.size}\")\n",
    "\n",
    "# ---OUTPUT---\n",
    "# There are 1438 same elements. Size of the DFT supercell is 1438"
   ]
  },
  {
   "cell_type": "markdown",
   "id": "b3f25272",
   "metadata": {},
   "source": [
    "### Setting up Calculations\n",
    "Now, we are ready to initiate the calculations of the coherence function utilizing DFT couplings. We intend to contrast the results derived with and without incorporating bath state sampling."
   ]
  },
  {
   "cell_type": "code",
   "execution_count": null,
   "id": "ab4628a9",
   "metadata": {},
   "outputs": [],
   "source": [
    "D = 1.334 * 1e6\n",
    "E = 0.0184 * 1e6\n",
    "magnetic_field = 0\n",
    "\n",
    "calc = pc.Simulator(1, pos, bath=atoms, external_bath=exatoms, D=D, E=E,\n",
    "                    magnetic_field=magnetic_field, alpha=0, beta=1,\n",
    "                    r_bath=r_bath, order=CCE_order, r_dipole=r_dipole)"
   ]
  },
  {
   "cell_type": "markdown",
   "id": "e0878108",
   "metadata": {},
   "source": [
    "The code automatically identifies and utilizes the two lowest eigenstates of the central spin Hamiltonian as qubit states. You can check the details of the simulation configuration by printing the calculator object."
   ]
  },
  {
   "cell_type": "code",
   "execution_count": null,
   "id": "23c54221",
   "metadata": {},
   "outputs": [],
   "source": [
    "print(calc)\n",
    "\n",
    "# ---OUTPUT---\n",
    "# Simulator for center array of size 1.\n",
    "# magnetic field:\n",
    "# array([0., 0., 0.])\n",
    "\n",
    "# Parameters of cluster expansion:\n",
    "# r_bath: 40\n",
    "# r_dipole: 8\n",
    "# order: 2\n",
    "\n",
    "# Bath consists of 761 spins.\n",
    "\n",
    "# Clusters include:\n",
    "# 761  clusters of order 1.\n",
    "# 1870  clusters of order 2."
   ]
  },
  {
   "cell_type": "markdown",
   "id": "6b382562",
   "metadata": {},
   "source": [
    "Furthermore, we can utilize the `CenterArray`, accessible via the `Simulator.center` attribute, to scrutinize the qubit states in the absence of the nuclear spin bath."
   ]
  },
  {
   "cell_type": "code",
   "execution_count": null,
   "id": "b342a6da",
   "metadata": {},
   "outputs": [],
   "source": [
    "calc.center.generate_states()\n",
    "print(f'0 state: {calc.alpha.real}; 1 state: {calc.beta.real}')\n",
    "\n",
    "# ---OUTPUT---\n",
    "# 0 state: [ 0. -1.  0.]; 1 state: [ 0.70711  0.      -0.70711]"
   ]
  },
  {
   "cell_type": "markdown",
   "id": "67907f70",
   "metadata": {},
   "source": [
    "### Free Induction Decay (FID)\n",
    "At this point, we will utilize the generalized CCE to calculate the Free Induction Decay (FID) of the coherence function across different CCE orders."
   ]
  },
  {
   "cell_type": "code",
   "execution_count": null,
   "id": "64d2b859",
   "metadata": {},
   "outputs": [],
   "source": [
    "N = 0 # Number of pulses\n",
    "time_space = np.linspace(0, 1, 101) # Time points at which to compute\n",
    "\n",
    "orders = [1, 2, 3]\n",
    "lgen = []\n",
    "\n",
    "r_bath = 30\n",
    "r_dipole = 8\n",
    "\n",
    "calc = pc.Simulator(1, pos, bath=atoms, external_bath=exatoms,\n",
    "                    D=D, E=E, pulses=N, alpha=0, beta=1,\n",
    "                    r_bath=r_bath, r_dipole=r_dipole)\n",
    "\n",
    "for o in orders:\n",
    "    calc.generate_clusters(o)\n",
    "    l = calc.compute(time_space, method='gcce',\n",
    "                     quantity='coherence', as_delay=False)\n",
    "    \n",
    "    lgen.append(np.abs(l))\n",
    "\n",
    "lgen = pd.DataFrame(lgen, columns=time_space, index=orders).T"
   ]
  },
  {
   "cell_type": "markdown",
   "id": "ec9c858a",
   "metadata": {},
   "source": [
    "Notice that the results do not converge as expected. Instead, they begin to diverge. Employing bath sampling (by setting `nbstates` to a specific value) can address this issue.\n",
    "\n",
    "To visualize the data, we plot the results:"
   ]
  },
  {
   "cell_type": "code",
   "execution_count": null,
   "id": "65306e83",
   "metadata": {},
   "outputs": [],
   "source": [
    "lgen.plot()\n",
    "plt.xlabel('Time (ms)')\n",
    "plt.ylabel('L')\n",
    "plt.ylim(-0.1, 1.1);"
   ]
  },
  {
   "cell_type": "markdown",
   "id": "45559734",
   "metadata": {},
   "source": [
    "Please note that implementing this method is considerably more resource-intensive, being `nbstates` times more expensive than the gCCE. Therefore, the upcoming calculation is expected to take a few minutes."
   ]
  },
  {
   "cell_type": "code",
   "execution_count": null,
   "id": "9a6e4614",
   "metadata": {},
   "outputs": [],
   "source": [
    "orders = [1, 2]\n",
    "lgcce = []\n",
    "\n",
    "r_bath = 30\n",
    "r_dipole = 6\n",
    "\n",
    "for o in orders:\n",
    "    calc.generate_clusters(o)\n",
    "\n",
    "    l = calc.compute(time_space, nbstates=30, seed=seed,\n",
    "                     method='gcce',\n",
    "                     quantity='coherence', as_delay=False)\n",
    "\n",
    "    lgcce.append(np.abs(l))\n",
    "\n",
    "lgcce = pd.DataFrame(lgcce, columns=time_space, index=orders).T"
   ]
  },
  {
   "cell_type": "markdown",
   "id": "fbadfcf3",
   "metadata": {},
   "source": [
    "### Compare the two results\n",
    "In this section, we will compare the results obtained using gCCE at different settings. It is noted that the first order results from the gCCE method seem to converge, however, due to the small number of bath states utilized (30), the calculations might not be fully converged. Using a larger number of bath states, around 100, could potentially yield more accurate results. Let's plot these comparisons:"
   ]
  },
  {
   "cell_type": "code",
   "execution_count": null,
   "id": "7a0e968e",
   "metadata": {},
   "outputs": [],
   "source": [
    "plt.plot(lgen, color='black', ls=':')\n",
    "plt.plot(lgcce)\n",
    "\n",
    "plt.xlabel('Time (ms)')\n",
    "plt.ylabel('L')\n",
    "plt.ylim(-0.1, 1.1);"
   ]
  },
  {
   "cell_type": "markdown",
   "id": "de5bb923",
   "metadata": {},
   "source": [
    "### Hahn-echo decay\n",
    "Next, we will adapt a similar process used in the FID section to compute the Hahn-echo decay. Let's proceed with the calculation and visualization of this process:"
   ]
  },
  {
   "cell_type": "code",
   "execution_count": null,
   "id": "a197e9c3",
   "metadata": {},
   "outputs": [],
   "source": [
    "r_bath = 40\n",
    "r_dipole = 8\n",
    "order = 2\n",
    "N = 1 # Number of pulses\n",
    "\n",
    "calc = pc.Simulator(1, pos, bath=atoms, external_bath=exatoms,\n",
    "                    pulses=N, D=D, E=E, alpha=-1, beta=0,\n",
    "                    r_bath=r_bath, order=order, r_dipole=r_dipole)\n",
    "\n",
    "ts = np.linspace(0, 4, 101) # time points (in ms)\n",
    "\n",
    "helgen = calc.compute(ts, method='gcce', quantity='coherence')"
   ]
  },
  {
   "cell_type": "markdown",
   "id": "734dee7c",
   "metadata": {},
   "source": [
    "Keep in mind that increasing the number of `nbstates` will significantly extend the calculation time. MPI implementation can expedite this process and it is facilitated through the keywords `parallel` (general) or `parallel_states` (specific to bath state sampling runs). This, however, necessitates the installation of `mpi4py` and running the operations on multiple cores. \n",
    "\n",
    "Now, we will run and visualize the computations with the adjusted `nbstates` parameter:"
   ]
  },
  {
   "cell_type": "code",
   "execution_count": null,
   "id": "9f250619",
   "metadata": {},
   "outputs": [],
   "source": [
    "helgcce = calc.compute(time_space, nbstates=30, seed=seed,\n",
    "                       method='gcce', quantity='coherence')\n",
    "\n",
    "plt.plot(ts, helgcce, label='gCCE with mean field')\n",
    "plt.plot(ts, helgen, label='gCCE')\n",
    "\n",
    "plt.legend()\n",
    "plt.xlabel('Time (ms)')\n",
    "plt.ylabel('L');"
   ]
  }
 ],
 "metadata": {
  "kernelspec": {
   "display_name": "Capstone_environment",
   "language": "python",
   "name": "python3"
  },
  "language_info": {
   "codemirror_mode": {
    "name": "ipython",
    "version": 3
   },
   "file_extension": ".py",
   "mimetype": "text/x-python",
   "name": "python",
   "nbconvert_exporter": "python",
   "pygments_lexer": "ipython3",
   "version": "3.10.10"
  }
 },
 "nbformat": 4,
 "nbformat_minor": 5
}
