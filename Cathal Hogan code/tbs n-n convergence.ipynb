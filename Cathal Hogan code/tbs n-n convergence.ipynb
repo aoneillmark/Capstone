{
 "cells": [
  {
   "cell_type": "code",
   "execution_count": 9,
   "metadata": {},
   "outputs": [
    {
     "data": {
      "text/plain": [
       "'\\nCreated on Sun Aug 27 09:52:05 2023\\n\\n@author: cchog\\n'"
      ]
     },
     "execution_count": 9,
     "metadata": {},
     "output_type": "execute_result"
    }
   ],
   "source": [
    "# -*- coding: utf-8 -*-\n",
    "\"\"\"\n",
    "Created on Sun Aug 27 09:52:05 2023\n",
    "\n",
    "@author: cchog\n",
    "\"\"\"\n",
    "#"
   ]
  },
  {
   "cell_type": "code",
   "execution_count": 10,
   "metadata": {},
   "outputs": [],
   "source": [
    "#importing functions \n",
    "import numpy as np\n",
    "import matplotlib.pyplot as plt\n",
    "import pycce as pc \n",
    "import pandas as pd\n",
    "from scipy.optimize import curve_fit \n",
    "import mpi4py\n"
   ]
  },
  {
   "cell_type": "code",
   "execution_count": 11,
   "metadata": {},
   "outputs": [],
   "source": [
    "#define function to converge parameters\n",
    "def runner(variable, values):\n",
    "    print('Running:' + str(variable))\n",
    "    invalue = parameters[variable]\n",
    "    calc = pc.Simulator(spin=cen, bath=atoms, **parameters)\n",
    "    ls = []\n",
    "    \n",
    "    for idx, v in enumerate(values):\n",
    "        print(\"Progress: \" + str(idx/len(values)*100) + \"%\")\n",
    "        setattr(calc, variable, v)\n",
    "        l = calc.compute(ts, method='cce',\n",
    "                         nbstates=nb,\n",
    "                         quantity='coherence',\n",
    "                         parallel = True,)\n",
    "        \n",
    "        \n",
    "        #print('a run done') # uncomment to see progress\n",
    "        ls.append(l.real)\n",
    "\n",
    "    parameters[variable] = invalue\n",
    "    ls = pd.DataFrame(ls, columns=ts, index=values).T\n",
    "    return ls"
   ]
  },
  {
   "cell_type": "code",
   "execution_count": 16,
   "metadata": {},
   "outputs": [],
   "source": [
    "#import xyz file\n",
    "uc = pd.read_csv('VOTPP_opt.xyz', skiprows=2, header=None, delimiter='      ', engine='python') #enter specific directory\n",
    "#seperate columns into numpy arrays\n",
    "N = np.array(uc[0])\n",
    "x = np.array(uc[1])\n",
    "y = np.array(uc[2])\n",
    "z = np.array(uc[3])\n",
    "#set up unit cell\n",
    "sic = pc.BathCell(13.2613, 13.2613, 9.6851, 90, 90, 90, 'deg') #used optimized structure note there is also an x-ray structure with slightly different values\n",
    "# z axis in cell coordinates\n",
    "sic.zdir = [0, 0, 1]\n",
    "\n",
    "#populate cell\n",
    "for i in range(len(N)):\n",
    "    sic.add_atoms((N[i], [x[i], y[i], z[i]]), type='angstrom')\n",
    "\n",
    "#assign position of qubit \n",
    "pos1 = x[76], y[76], z[76]\n",
    "qpos = sic.to_cell(pos1)\n",
    "\n",
    "#generate supercell - nuclear bath \n",
    "cell=100\n",
    "atoms = sic.gen_supercell(cell, seed = 8000) #left fixed for convergence tests to avoid changes\n",
    "#set          spin | gyro | quadrupole \n",
    "spin_types = [('C', 1 / 2, 6.72828),    \n",
    "              ('H', 1 / 2, 26.7522),\n",
    "              ('N', 1,     1.9331, 20.44 )\n",
    "              #('V', 7/2, 7.05, -350)  # not added for consistency between tests\n",
    "              ]   \n",
    "atoms.add_type(*spin_types)\n",
    "\n",
    "#set up the center \n",
    "cen = pc.CenterArray(size=1, position=qpos, \n",
    "                     spin=7/2, D=-350, gyro=-7.05,  \n",
    "                     alpha=[0,0,0,0,0,1,0,0], beta=[0,0,0,0,1,0,0,0]) #set to -3/2 to -1/2\n",
    "\n",
    "#parameters\n",
    "nb=25\n",
    "ts = np.linspace(0, 7e-2, 201) #expected T2 of 3.3e-2\n",
    "\n",
    "#dictionary of parameters\n",
    "parameters = dict(\n",
    "    order=2, # CCE order\n",
    "    r_bath=20,  # Size of the bath in A\n",
    "    r_dipole=10,  # Cutoff of pairwise clusters in A\n",
    "    pulses = 1, # N pulses in CPMG sequence\n",
    "    magnetic_field=[0,0,10000] #set to 1T\n",
    ") \n"
   ]
  },
  {
   "cell_type": "code",
   "execution_count": 8,
   "metadata": {},
   "outputs": [
    {
     "name": "stdout",
     "output_type": "stream",
     "text": [
      "Running:order\n",
      "Progress: 0.0%\n",
      "Progress: 33.33333333333333%\n",
      "Progress: 66.66666666666666%\n"
     ]
    },
    {
     "ename": "KeyboardInterrupt",
     "evalue": "",
     "output_type": "error",
     "traceback": [
      "\u001b[0;31m---------------------------------------------------------------------------\u001b[0m",
      "\u001b[0;31mKeyboardInterrupt\u001b[0m                         Traceback (most recent call last)",
      "\u001b[1;32m/Users/markoneill/Desktop/Physics/SS/Capstone/VScode Capstone Folder/Cathal Hogan code/tbs n-n convergence.ipynb Cell 5\u001b[0m line \u001b[0;36m2\n\u001b[1;32m      <a href='vscode-notebook-cell:/Users/markoneill/Desktop/Physics/SS/Capstone/VScode%20Capstone%20Folder/Cathal%20Hogan%20code/tbs%20n-n%20convergence.ipynb#W3sZmlsZQ%3D%3D?line=0'>1</a>\u001b[0m \u001b[39m#converge for order \u001b[39;00m\n\u001b[0;32m----> <a href='vscode-notebook-cell:/Users/markoneill/Desktop/Physics/SS/Capstone/VScode%20Capstone%20Folder/Cathal%20Hogan%20code/tbs%20n-n%20convergence.ipynb#W3sZmlsZQ%3D%3D?line=1'>2</a>\u001b[0m orders \u001b[39m=\u001b[39m runner(\u001b[39m'\u001b[39;49m\u001b[39morder\u001b[39;49m\u001b[39m'\u001b[39;49m, [\u001b[39m1\u001b[39;49m,\u001b[39m2\u001b[39;49m,\u001b[39m3\u001b[39;49m])\n\u001b[1;32m      <a href='vscode-notebook-cell:/Users/markoneill/Desktop/Physics/SS/Capstone/VScode%20Capstone%20Folder/Cathal%20Hogan%20code/tbs%20n-n%20convergence.ipynb#W3sZmlsZQ%3D%3D?line=2'>3</a>\u001b[0m orders\u001b[39m.\u001b[39mplot(title\u001b[39m=\u001b[39m\u001b[39m'\u001b[39m\u001b[39mconvergence test for orders; cell=75; nbstates=0; [?:20:10]\u001b[39m\u001b[39m'\u001b[39m,\n\u001b[1;32m      <a href='vscode-notebook-cell:/Users/markoneill/Desktop/Physics/SS/Capstone/VScode%20Capstone%20Folder/Cathal%20Hogan%20code/tbs%20n-n%20convergence.ipynb#W3sZmlsZQ%3D%3D?line=3'>4</a>\u001b[0m            xlabel\u001b[39m=\u001b[39m\u001b[39m'\u001b[39m\u001b[39morder\u001b[39m\u001b[39m'\u001b[39m, ylabel\u001b[39m=\u001b[39m\u001b[39m'\u001b[39m\u001b[39mCoherence\u001b[39m\u001b[39m'\u001b[39m)\n\u001b[1;32m      <a href='vscode-notebook-cell:/Users/markoneill/Desktop/Physics/SS/Capstone/VScode%20Capstone%20Folder/Cathal%20Hogan%20code/tbs%20n-n%20convergence.ipynb#W3sZmlsZQ%3D%3D?line=4'>5</a>\u001b[0m \u001b[39m#plt.show()  # uncomment to show individually\u001b[39;00m\n\u001b[1;32m      <a href='vscode-notebook-cell:/Users/markoneill/Desktop/Physics/SS/Capstone/VScode%20Capstone%20Folder/Cathal%20Hogan%20code/tbs%20n-n%20convergence.ipynb#W3sZmlsZQ%3D%3D?line=5'>6</a>\u001b[0m \n\u001b[1;32m      <a href='vscode-notebook-cell:/Users/markoneill/Desktop/Physics/SS/Capstone/VScode%20Capstone%20Folder/Cathal%20Hogan%20code/tbs%20n-n%20convergence.ipynb#W3sZmlsZQ%3D%3D?line=6'>7</a>\u001b[0m \u001b[39m#converge for r_bath\u001b[39;00m\n",
      "\u001b[1;32m/Users/markoneill/Desktop/Physics/SS/Capstone/VScode Capstone Folder/Cathal Hogan code/tbs n-n convergence.ipynb Cell 5\u001b[0m line \u001b[0;36m1\n\u001b[1;32m      <a href='vscode-notebook-cell:/Users/markoneill/Desktop/Physics/SS/Capstone/VScode%20Capstone%20Folder/Cathal%20Hogan%20code/tbs%20n-n%20convergence.ipynb#W3sZmlsZQ%3D%3D?line=8'>9</a>\u001b[0m \u001b[39mprint\u001b[39m(\u001b[39m\"\u001b[39m\u001b[39mProgress: \u001b[39m\u001b[39m\"\u001b[39m \u001b[39m+\u001b[39m \u001b[39mstr\u001b[39m(idx\u001b[39m/\u001b[39m\u001b[39mlen\u001b[39m(values)\u001b[39m*\u001b[39m\u001b[39m100\u001b[39m) \u001b[39m+\u001b[39m \u001b[39m\"\u001b[39m\u001b[39m%\u001b[39m\u001b[39m\"\u001b[39m)\n\u001b[1;32m     <a href='vscode-notebook-cell:/Users/markoneill/Desktop/Physics/SS/Capstone/VScode%20Capstone%20Folder/Cathal%20Hogan%20code/tbs%20n-n%20convergence.ipynb#W3sZmlsZQ%3D%3D?line=9'>10</a>\u001b[0m \u001b[39msetattr\u001b[39m(calc, variable, v)\n\u001b[0;32m---> <a href='vscode-notebook-cell:/Users/markoneill/Desktop/Physics/SS/Capstone/VScode%20Capstone%20Folder/Cathal%20Hogan%20code/tbs%20n-n%20convergence.ipynb#W3sZmlsZQ%3D%3D?line=10'>11</a>\u001b[0m l \u001b[39m=\u001b[39m calc\u001b[39m.\u001b[39;49mcompute(ts, method\u001b[39m=\u001b[39;49m\u001b[39m'\u001b[39;49m\u001b[39mcce\u001b[39;49m\u001b[39m'\u001b[39;49m,\n\u001b[1;32m     <a href='vscode-notebook-cell:/Users/markoneill/Desktop/Physics/SS/Capstone/VScode%20Capstone%20Folder/Cathal%20Hogan%20code/tbs%20n-n%20convergence.ipynb#W3sZmlsZQ%3D%3D?line=11'>12</a>\u001b[0m                  nbstates\u001b[39m=\u001b[39;49mnb,\n\u001b[1;32m     <a href='vscode-notebook-cell:/Users/markoneill/Desktop/Physics/SS/Capstone/VScode%20Capstone%20Folder/Cathal%20Hogan%20code/tbs%20n-n%20convergence.ipynb#W3sZmlsZQ%3D%3D?line=12'>13</a>\u001b[0m                  quantity\u001b[39m=\u001b[39;49m\u001b[39m'\u001b[39;49m\u001b[39mcoherence\u001b[39;49m\u001b[39m'\u001b[39;49m,\n\u001b[1;32m     <a href='vscode-notebook-cell:/Users/markoneill/Desktop/Physics/SS/Capstone/VScode%20Capstone%20Folder/Cathal%20Hogan%20code/tbs%20n-n%20convergence.ipynb#W3sZmlsZQ%3D%3D?line=13'>14</a>\u001b[0m                  parallel \u001b[39m=\u001b[39;49m \u001b[39mTrue\u001b[39;49;00m,)\n\u001b[1;32m     <a href='vscode-notebook-cell:/Users/markoneill/Desktop/Physics/SS/Capstone/VScode%20Capstone%20Folder/Cathal%20Hogan%20code/tbs%20n-n%20convergence.ipynb#W3sZmlsZQ%3D%3D?line=16'>17</a>\u001b[0m \u001b[39m#print('a run done') # uncomment to see progress\u001b[39;00m\n\u001b[1;32m     <a href='vscode-notebook-cell:/Users/markoneill/Desktop/Physics/SS/Capstone/VScode%20Capstone%20Folder/Cathal%20Hogan%20code/tbs%20n-n%20convergence.ipynb#W3sZmlsZQ%3D%3D?line=17'>18</a>\u001b[0m ls\u001b[39m.\u001b[39mappend(l\u001b[39m.\u001b[39mreal)\n",
      "File \u001b[0;32m~/Desktop/Physics/SS/Capstone/VScode Capstone Folder/Capstone_environment/lib/python3.10/site-packages/pycce/main.py:1115\u001b[0m, in \u001b[0;36mSimulator.compute\u001b[0;34m(self, timespace, quantity, method, **kwargs)\u001b[0m\n\u001b[1;32m   1112\u001b[0m \u001b[39mif\u001b[39;00m \u001b[39mnot\u001b[39;00m \u001b[39mself\u001b[39m\u001b[39m.\u001b[39minterlaced:\n\u001b[1;32m   1114\u001b[0m     \u001b[39mif\u001b[39;00m \u001b[39mself\u001b[39m\u001b[39m.\u001b[39mnbstates:\n\u001b[0;32m-> 1115\u001b[0m         result \u001b[39m=\u001b[39m runner\u001b[39m.\u001b[39;49msampling_run()\n\u001b[1;32m   1117\u001b[0m     \u001b[39melse\u001b[39;00m:\n\u001b[1;32m   1118\u001b[0m         result \u001b[39m=\u001b[39m runner\u001b[39m.\u001b[39mrun()\n",
      "File \u001b[0;32m~/Desktop/Physics/SS/Capstone/VScode Capstone Folder/Capstone_environment/lib/python3.10/site-packages/pycce/run/base.py:333\u001b[0m, in \u001b[0;36mRunObject.sampling_run\u001b[0;34m(self, *args, **kwargs)\u001b[0m\n\u001b[1;32m    320\u001b[0m \u001b[39mdef\u001b[39;00m \u001b[39msampling_run\u001b[39m(\u001b[39mself\u001b[39m, \u001b[39m*\u001b[39margs, \u001b[39m*\u001b[39m\u001b[39m*\u001b[39mkwargs):\n\u001b[1;32m    321\u001b[0m \u001b[39m    \u001b[39m\u001b[39m\"\"\"\u001b[39;00m\n\u001b[1;32m    322\u001b[0m \u001b[39m    Method that runs bath sampling calculations.\u001b[39;00m\n\u001b[1;32m    323\u001b[0m \n\u001b[0;32m   (...)\u001b[0m\n\u001b[1;32m    331\u001b[0m \n\u001b[1;32m    332\u001b[0m \u001b[39m    \"\"\"\u001b[39;00m\n\u001b[0;32m--> 333\u001b[0m     \u001b[39mself\u001b[39m\u001b[39m.\u001b[39mresult \u001b[39m=\u001b[39m \u001b[39mself\u001b[39;49m\u001b[39m.\u001b[39;49m__inner_sampled_run(\u001b[39m*\u001b[39;49margs,\n\u001b[1;32m    334\u001b[0m                                            \u001b[39m*\u001b[39;49m\u001b[39m*\u001b[39;49mkwargs)\n\u001b[1;32m    335\u001b[0m     \u001b[39mreturn\u001b[39;00m \u001b[39mself\u001b[39m\u001b[39m.\u001b[39mresult\n",
      "File \u001b[0;32m~/Desktop/Physics/SS/Capstone/VScode Capstone Folder/Capstone_environment/lib/python3.10/site-packages/pycce/run/mc.py:106\u001b[0m, in \u001b[0;36mmonte_carlo_method_decorator.<locals>.inner_method\u001b[0;34m(self, *args, **kwargs)\u001b[0m\n\u001b[1;32m    103\u001b[0m \u001b[39mfor\u001b[39;00m bath_state \u001b[39min\u001b[39;00m generate_bath_state(\u001b[39mself\u001b[39m\u001b[39m.\u001b[39mbath[\u001b[39m~\u001b[39mhis], nbstates, seed\u001b[39m=\u001b[39mseed, parallel\u001b[39m=\u001b[39m\u001b[39mself\u001b[39m\u001b[39m.\u001b[39mparallel):\n\u001b[1;32m    105\u001b[0m     \u001b[39mself\u001b[39m\u001b[39m.\u001b[39mbath\u001b[39m.\u001b[39mstate[\u001b[39m~\u001b[39mhis] \u001b[39m=\u001b[39m bath_state\n\u001b[0;32m--> 106\u001b[0m     result \u001b[39m=\u001b[39m func(\u001b[39mself\u001b[39;49m, \u001b[39m*\u001b[39;49margs, \u001b[39m*\u001b[39;49m\u001b[39m*\u001b[39;49mkwargs)\n\u001b[1;32m    108\u001b[0m     \u001b[39mif\u001b[39;00m \u001b[39mself\u001b[39m\u001b[39m.\u001b[39mmasked \u001b[39mis\u001b[39;00m \u001b[39mnot\u001b[39;00m \u001b[39mNone\u001b[39;00m:\n\u001b[1;32m    109\u001b[0m         \u001b[39mif\u001b[39;00m \u001b[39misinstance\u001b[39m(\u001b[39mself\u001b[39m\u001b[39m.\u001b[39mmasked, \u001b[39mbool\u001b[39m):\n",
      "File \u001b[0;32m~/Desktop/Physics/SS/Capstone/VScode Capstone Folder/Capstone_environment/lib/python3.10/site-packages/pycce/run/base.py:318\u001b[0m, in \u001b[0;36mRunObject.__inner_sampled_run\u001b[0;34m(self, *args, **kwargs)\u001b[0m\n\u001b[1;32m    316\u001b[0m \u001b[39m@monte_carlo_method_decorator\u001b[39m\n\u001b[1;32m    317\u001b[0m \u001b[39mdef\u001b[39;00m \u001b[39m__inner_sampled_run\u001b[39m(\u001b[39mself\u001b[39m, \u001b[39m*\u001b[39margs, \u001b[39m*\u001b[39m\u001b[39m*\u001b[39mkwargs):\n\u001b[0;32m--> 318\u001b[0m     \u001b[39mreturn\u001b[39;00m \u001b[39mself\u001b[39;49m\u001b[39m.\u001b[39;49mrun(\u001b[39m*\u001b[39;49margs, \u001b[39m*\u001b[39;49m\u001b[39m*\u001b[39;49mkwargs)\n",
      "File \u001b[0;32m~/Desktop/Physics/SS/Capstone/VScode Capstone Folder/Capstone_environment/lib/python3.10/site-packages/pycce/run/base.py:312\u001b[0m, in \u001b[0;36mRunObject.run\u001b[0;34m(self, *args, **kwargs)\u001b[0m\n\u001b[1;32m    299\u001b[0m \u001b[39m\u001b[39m\u001b[39m\"\"\"\u001b[39;00m\n\u001b[1;32m    300\u001b[0m \u001b[39mMethod that runs cluster-expanded single calculation.\u001b[39;00m\n\u001b[1;32m    301\u001b[0m \n\u001b[0;32m   (...)\u001b[0m\n\u001b[1;32m    309\u001b[0m \n\u001b[1;32m    310\u001b[0m \u001b[39m\"\"\"\u001b[39;00m\n\u001b[1;32m    311\u001b[0m \u001b[39mself\u001b[39m\u001b[39m.\u001b[39mpreprocess()\n\u001b[0;32m--> 312\u001b[0m \u001b[39mself\u001b[39m\u001b[39m.\u001b[39mresult \u001b[39m=\u001b[39m \u001b[39mself\u001b[39;49m\u001b[39m.\u001b[39;49m__inner_kernel(\u001b[39mself\u001b[39;49m, \u001b[39m*\u001b[39;49margs, \u001b[39m*\u001b[39;49m\u001b[39m*\u001b[39;49mkwargs)\n\u001b[1;32m    313\u001b[0m \u001b[39mself\u001b[39m\u001b[39m.\u001b[39mpostprocess()\n\u001b[1;32m    314\u001b[0m \u001b[39mreturn\u001b[39;00m \u001b[39mself\u001b[39m\u001b[39m.\u001b[39mresult\n",
      "File \u001b[0;32m~/Desktop/Physics/SS/Capstone/VScode Capstone Folder/Capstone_environment/lib/python3.10/site-packages/pycce/run/clusters.py:66\u001b[0m, in \u001b[0;36mcluster_expansion_decorator.<locals>.inner_cluster_expansion_decorator.<locals>.cluster_expansion\u001b[0;34m(self, *arg, **kwarg)\u001b[0m\n\u001b[1;32m     60\u001b[0m     \u001b[39mreturn\u001b[39;00m direct_approach(function, \u001b[39mself\u001b[39m, \u001b[39m*\u001b[39marg,\n\u001b[1;32m     61\u001b[0m                            result_operator\u001b[39m=\u001b[39mresult_operator,\n\u001b[1;32m     62\u001b[0m                            removal_operator\u001b[39m=\u001b[39mremoval_operator,\n\u001b[1;32m     63\u001b[0m                            addition_operator\u001b[39m=\u001b[39maddition_operator,\n\u001b[1;32m     64\u001b[0m                            \u001b[39m*\u001b[39m\u001b[39m*\u001b[39mkwarg)\n\u001b[1;32m     65\u001b[0m \u001b[39melse\u001b[39;00m:\n\u001b[0;32m---> 66\u001b[0m     \u001b[39mreturn\u001b[39;00m optimized_approach(function, \u001b[39mself\u001b[39;49m, \u001b[39m*\u001b[39;49marg,\n\u001b[1;32m     67\u001b[0m                               result_operator\u001b[39m=\u001b[39;49mresult_operator,\n\u001b[1;32m     68\u001b[0m                               contribution_operator\u001b[39m=\u001b[39;49mcontribution_operator,\n\u001b[1;32m     69\u001b[0m                               \u001b[39m*\u001b[39;49m\u001b[39m*\u001b[39;49mkwarg)\n",
      "File \u001b[0;32m~/Desktop/Physics/SS/Capstone/VScode Capstone Folder/Capstone_environment/lib/python3.10/site-packages/pycce/run/clusters.py:171\u001b[0m, in \u001b[0;36moptimized_approach\u001b[0;34m(function, self, result_operator, contribution_operator, *arg, **kwarg)\u001b[0m\n\u001b[1;32m    169\u001b[0m     vcalc \u001b[39m=\u001b[39m contribution_operator(\u001b[39m1\u001b[39m, \u001b[39m0\u001b[39m)\n\u001b[1;32m    170\u001b[0m \u001b[39melse\u001b[39;00m:\n\u001b[0;32m--> 171\u001b[0m     vcalc \u001b[39m=\u001b[39m function(v, \u001b[39m*\u001b[39;49marg, \u001b[39m*\u001b[39;49m\u001b[39m*\u001b[39;49mkwarg)\n\u001b[1;32m    172\u001b[0m     vcalc \u001b[39m=\u001b[39m contribution_operator(vcalc, current_power[index])\n\u001b[1;32m    174\u001b[0m result \u001b[39m=\u001b[39m result_operator(result, vcalc)\n",
      "File \u001b[0;32m~/Desktop/Physics/SS/Capstone/VScode Capstone Folder/Capstone_environment/lib/python3.10/site-packages/pycce/run/base.py:286\u001b[0m, in \u001b[0;36mRunObject.kernel\u001b[0;34m(self, cluster, *args, **kwargs)\u001b[0m\n\u001b[1;32m    283\u001b[0m \u001b[39mif\u001b[39;00m \u001b[39misinstance\u001b[39m(\u001b[39mself\u001b[39m\u001b[39m.\u001b[39mpulses, Sequence):\n\u001b[1;32m    284\u001b[0m     \u001b[39mself\u001b[39m\u001b[39m.\u001b[39mgenerate_pulses()\n\u001b[0;32m--> 286\u001b[0m result \u001b[39m=\u001b[39m \u001b[39mself\u001b[39;49m\u001b[39m.\u001b[39;49mcompute_result()\n\u001b[1;32m    288\u001b[0m \u001b[39mreturn\u001b[39;00m result\n",
      "File \u001b[0;32m~/Desktop/Physics/SS/Capstone/VScode Capstone Folder/Capstone_environment/lib/python3.10/site-packages/pycce/run/cce.py:257\u001b[0m, in \u001b[0;36mCCE.compute_result\u001b[0;34m(self)\u001b[0m\n\u001b[1;32m    247\u001b[0m \u001b[39mdef\u001b[39;00m \u001b[39mcompute_result\u001b[39m(\u001b[39mself\u001b[39m):\n\u001b[1;32m    248\u001b[0m \u001b[39m    \u001b[39m\u001b[39m\"\"\"\u001b[39;00m\n\u001b[1;32m    249\u001b[0m \u001b[39m    Using the attributes of the ``self`` object,\u001b[39;00m\n\u001b[1;32m    250\u001b[0m \u001b[39m    compute the coherence function as overlap in the bath evolution.\u001b[39;00m\n\u001b[0;32m   (...)\u001b[0m\n\u001b[1;32m    255\u001b[0m \n\u001b[1;32m    256\u001b[0m \u001b[39m    \"\"\"\u001b[39;00m\n\u001b[0;32m--> 257\u001b[0m     unitary_0, unitary_1 \u001b[39m=\u001b[39m \u001b[39mself\u001b[39;49m\u001b[39m.\u001b[39;49mpropagators()\n\u001b[1;32m    259\u001b[0m     \u001b[39mif\u001b[39;00m \u001b[39mself\u001b[39m\u001b[39m.\u001b[39mstates \u001b[39mis\u001b[39;00m \u001b[39mNone\u001b[39;00m:\n\u001b[1;32m    260\u001b[0m         coherence_function \u001b[39m=\u001b[39m np\u001b[39m.\u001b[39meinsum(\u001b[39m'\u001b[39m\u001b[39mzij,zij->z\u001b[39m\u001b[39m'\u001b[39m, unitary_0, unitary_1\u001b[39m.\u001b[39mconj()) \u001b[39m/\u001b[39m unitary_0\u001b[39m.\u001b[39mshape[\u001b[39m1\u001b[39m]\n",
      "File \u001b[0;32m~/Desktop/Physics/SS/Capstone/VScode Capstone Folder/Capstone_environment/lib/python3.10/site-packages/pycce/run/cce.py:294\u001b[0m, in \u001b[0;36mCCE.propagators\u001b[0;34m(self)\u001b[0m\n\u001b[1;32m    281\u001b[0m \u001b[39m\u001b[39m\u001b[39m\"\"\"\u001b[39;00m\n\u001b[1;32m    282\u001b[0m \u001b[39mGenerate two propagators, conditioned on the qubit state.\u001b[39;00m\n\u001b[1;32m    283\u001b[0m \n\u001b[0;32m   (...)\u001b[0m\n\u001b[1;32m    291\u001b[0m \n\u001b[1;32m    292\u001b[0m \u001b[39m\"\"\"\u001b[39;00m\n\u001b[1;32m    293\u001b[0m \u001b[39mif\u001b[39;00m \u001b[39mnot\u001b[39;00m \u001b[39mself\u001b[39m\u001b[39m.\u001b[39muse_pulses:\n\u001b[0;32m--> 294\u001b[0m     \u001b[39mreturn\u001b[39;00m \u001b[39mself\u001b[39;49m\u001b[39m.\u001b[39;49m_no_pulses()\n\u001b[1;32m    296\u001b[0m \u001b[39mif\u001b[39;00m \u001b[39mself\u001b[39m\u001b[39m.\u001b[39mdelays \u001b[39mis\u001b[39;00m \u001b[39mNone\u001b[39;00m:\n\u001b[1;32m    297\u001b[0m     \u001b[39mreturn\u001b[39;00m \u001b[39mself\u001b[39m\u001b[39m.\u001b[39m_no_delays()\n",
      "File \u001b[0;32m~/Desktop/Physics/SS/Capstone/VScode Capstone Folder/Capstone_environment/lib/python3.10/site-packages/pycce/run/cce.py:315\u001b[0m, in \u001b[0;36mCCE._no_pulses\u001b[0;34m(self)\u001b[0m\n\u001b[1;32m    313\u001b[0m ha, hb \u001b[39m=\u001b[39m \u001b[39mself\u001b[39m\u001b[39m.\u001b[39m_proj_ham()\n\u001b[1;32m    314\u001b[0m delays \u001b[39m=\u001b[39m \u001b[39mself\u001b[39m\u001b[39m.\u001b[39mtimespace \u001b[39m/\u001b[39m (\u001b[39m2\u001b[39m \u001b[39m*\u001b[39m \u001b[39mself\u001b[39m\u001b[39m.\u001b[39mpulses) \u001b[39mif\u001b[39;00m ((\u001b[39mnot\u001b[39;00m \u001b[39mself\u001b[39m\u001b[39m.\u001b[39mas_delay) \u001b[39mand\u001b[39;00m \u001b[39mself\u001b[39m\u001b[39m.\u001b[39mpulses) \u001b[39melse\u001b[39;00m \u001b[39mself\u001b[39m\u001b[39m.\u001b[39mtimespace\n\u001b[0;32m--> 315\u001b[0m v0, v1 \u001b[39m=\u001b[39m simple_propagators(delays, ha, hb)\n\u001b[1;32m    317\u001b[0m \u001b[39mif\u001b[39;00m \u001b[39mnot\u001b[39;00m \u001b[39mself\u001b[39m\u001b[39m.\u001b[39mpulses:\n\u001b[1;32m    318\u001b[0m     \u001b[39mreturn\u001b[39;00m v0, v1\n",
      "File \u001b[0;32m~/Desktop/Physics/SS/Capstone/VScode Capstone Folder/Capstone_environment/lib/python3.10/site-packages/pycce/run/cce.py:36\u001b[0m, in \u001b[0;36msimple_propagators\u001b[0;34m(delays, hamiltonian_alpha, hamiltonian_beta)\u001b[0m\n\u001b[1;32m     18\u001b[0m \u001b[39m\u001b[39m\u001b[39mr\u001b[39m\u001b[39m\"\"\"\u001b[39;00m\n\u001b[1;32m     19\u001b[0m \u001b[39mGenerate two simple propagators :math:`U=\\exp[-\\frac{i}{\\hbar} \\hat H]` from the Hamiltonians, conditioned\u001b[39;00m\n\u001b[1;32m     20\u001b[0m \u001b[39mon two qubit levels.\u001b[39;00m\n\u001b[0;32m   (...)\u001b[0m\n\u001b[1;32m     33\u001b[0m \n\u001b[1;32m     34\u001b[0m \u001b[39m\"\"\"\u001b[39;00m\n\u001b[1;32m     35\u001b[0m u0 \u001b[39m=\u001b[39m simple_propagator(delays, hamiltonian_alpha)\n\u001b[0;32m---> 36\u001b[0m u1 \u001b[39m=\u001b[39m simple_propagator(delays, hamiltonian_beta)\n\u001b[1;32m     38\u001b[0m \u001b[39mreturn\u001b[39;00m u0, u1\n",
      "File \u001b[0;32m~/Desktop/Physics/SS/Capstone/VScode Capstone Folder/Capstone_environment/lib/python3.10/site-packages/pycce/run/base.py:726\u001b[0m, in \u001b[0;36msimple_propagator\u001b[0;34m(timespace, hamiltonian)\u001b[0m\n\u001b[1;32m    721\u001b[0m evalues, evec \u001b[39m=\u001b[39m np\u001b[39m.\u001b[39mlinalg\u001b[39m.\u001b[39meigh(hamiltonian \u001b[39m*\u001b[39m PI2)\n\u001b[1;32m    723\u001b[0m eigexp \u001b[39m=\u001b[39m np\u001b[39m.\u001b[39mexp(\u001b[39m-\u001b[39m\u001b[39m1\u001b[39mj \u001b[39m*\u001b[39m np\u001b[39m.\u001b[39mouter(timespace, evalues),\n\u001b[1;32m    724\u001b[0m                 dtype\u001b[39m=\u001b[39mnp\u001b[39m.\u001b[39mcomplex128)\n\u001b[0;32m--> 726\u001b[0m \u001b[39mreturn\u001b[39;00m np\u001b[39m.\u001b[39;49mmatmul(np\u001b[39m.\u001b[39;49meinsum(\u001b[39m'\u001b[39;49m\u001b[39m...ij,...j->...ij\u001b[39;49m\u001b[39m'\u001b[39;49m, evec, eigexp, dtype\u001b[39m=\u001b[39;49mnp\u001b[39m.\u001b[39;49mcomplex128),\n\u001b[1;32m    727\u001b[0m                  evec\u001b[39m.\u001b[39;49mconj()\u001b[39m.\u001b[39;49mT)\n",
      "\u001b[0;31mKeyboardInterrupt\u001b[0m: "
     ]
    }
   ],
   "source": [
    "#converge for order \n",
    "orders = runner('order', [1,2,3])\n",
    "orders.plot(title='convergence test for orders; cell=75; nbstates=0; [?:20:10]',\n",
    "           xlabel='order', ylabel='Coherence')\n",
    "plt.show()  # uncomment to show individually\n",
    "\n",
    "#converge for r_bath\n",
    "rbs = runner('r_bath', [10,20,30])\n",
    "orders.plot(title='convergence test for r_bath; cell=75; nbstates=0; [2:?:10]',\n",
    "           xlabel='order', ylabel='Coherence')\n",
    "#plt.show()  # uncomment to show individually\n",
    "\n",
    "#converge for r_dipole\n",
    "rds = runner('r_dipole', [8,10,12])\n",
    "orders.plot(title='convergence test for r_dipole; cell=75; nbstates=0; [2:20:?]',\n",
    "           xlabel='order', ylabel='Coherence')\n",
    "#plt.show()  # uncomment to show individually\n",
    "\n",
    "#plot together \n",
    "fig, axes = plt.subplots(1, 3, figsize=(12, 3))\n",
    "orders.plot(ax=axes[0], title='order')\n",
    "rbs.plot(ax=axes[1], title='r_bath')\n",
    "rds.plot(ax=axes[2], title='r_dipole')\n",
    "for ax in axes:    \n",
    "    ax.set(xlabel='Time (ms)', ylabel='Coherence')\n",
    "plt.suptitle('Convergence tests; cell = 75copies')\n",
    "fig.tight_layout() "
   ]
  },
  {
   "cell_type": "code",
   "execution_count": null,
   "metadata": {},
   "outputs": [],
   "source": [
    "#converge for cell size \n",
    "ls_cell = [] #empty list to collect simulations \n",
    "cell_size = [60,100,200] #enter cell sizes to be simulated \n",
    "for i in cell_size():\n",
    "    #generate cell\n",
    "    atoms_cell = sic.gen_supercell(i, seed = 8000) #left fixed for convergence tests to avoid changes\n",
    "    #set spin |gyro | quadrupole \n",
    "    spin_types = [('C',  1 / 2,  6.72828),    \n",
    "                    ('H', 1 / 2, 26.7522),\n",
    "                    ('N', 1, 1.9331, 20.44 )\n",
    "                    #('V', 7/2, 7.05, -350)  # not added for consistency between tests\n",
    "                      ]   \n",
    "    atoms_cell.add_type(*spin_types)\n",
    "\n",
    "    #set up calculation \n",
    "    calc = pc.Simulator(spin=cen, bath=atoms_cell, **parameters)\n",
    "\n",
    "    #run simulation\n",
    "    l = calc.compute(ts, method='cce',\n",
    "                        nbstates=nb,\n",
    "                        quantity='coherence')\n",
    "        \n",
    "    ls_cell.append(l.real)\n",
    "    \n",
    "ls_cell_frame = pd.DataFrame(ls_cell, columns=ts, index=cell_size).T\n",
    "ls_cell_frame.plot(title='Convergence tests for cell size',\n",
    "          xlabel='Time [ms]', ylabel='Coherence')\n",
    "plt.show()"
   ]
  },
  {
   "cell_type": "code",
   "execution_count": null,
   "metadata": {},
   "outputs": [],
   "source": [
    "#converge nbstates\n",
    "calc = pc.Simulator(spin=cen, bath=atoms, **parameters)\n",
    "ls_nb = [] #empty list to collect sims\n",
    "nbstates = [10,25,50] #enter nbstates to be simulated\n",
    "for i in nbstates():\n",
    "    l = calc.compute(ts, method='cce',\n",
    "                        nbstates=i,\n",
    "                        quantity='coherence')\n",
    "    ls_nb.append(l.real)\n",
    "        \n",
    "ls_nb_frame = pd.DataFrame(ls_nb, columns=ts, index=nbstates).T\n",
    "ls_cell.plot(title='Convergence tests for nbstates',\n",
    "          xlabel='Time [ms]', ylabel='Coherence')"
   ]
  }
 ],
 "metadata": {
  "kernelspec": {
   "display_name": "Capstone_environment",
   "language": "python",
   "name": "python3"
  },
  "language_info": {
   "codemirror_mode": {
    "name": "ipython",
    "version": 3
   },
   "file_extension": ".py",
   "mimetype": "text/x-python",
   "name": "python",
   "nbconvert_exporter": "python",
   "pygments_lexer": "ipython3",
   "version": "3.10.10"
  },
  "orig_nbformat": 4
 },
 "nbformat": 4,
 "nbformat_minor": 2
}
