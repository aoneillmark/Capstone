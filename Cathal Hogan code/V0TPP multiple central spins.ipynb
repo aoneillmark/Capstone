{
 "cells": [
  {
   "cell_type": "code",
   "execution_count": 1,
   "metadata": {},
   "outputs": [
    {
     "name": "stderr",
     "output_type": "stream",
     "text": [
      "/Users/markoneill/Desktop/Physics/SS/Capstone/VScode Capstone Folder/Capstone_environment/lib/python3.10/site-packages/numba/core/decorators.py:262: NumbaDeprecationWarning: numba.generated_jit is deprecated. Please see the documentation at: https://numba.readthedocs.io/en/stable/reference/deprecation.html#deprecation-of-generated-jit for more information and advice on a suitable replacement.\n",
      "  warnings.warn(msg, NumbaDeprecationWarning)\n"
     ]
    }
   ],
   "source": [
    "#importing functions \n",
    "import numpy as np\n",
    "import matplotlib.pyplot as plt\n",
    "import pycce as pc \n",
    "import pandas as pd\n",
    "from scipy.optimize import curve_fit \n",
    "import mpi4py"
   ]
  },
  {
   "cell_type": "code",
   "execution_count": 2,
   "metadata": {},
   "outputs": [],
   "source": [
    "#define function to converge parameters\n",
    "def runner(variable, values):\n",
    "    print('Running:' + str(variable))\n",
    "    invalue = parameters[variable]\n",
    "    calc = pc.Simulator(spin=cen, bath=atoms, **parameters)\n",
    "    ls = []\n",
    "    \n",
    "    for idx, v in enumerate(values):\n",
    "        print(\"Progress: \" + str(idx/len(values)*100) + \"%\")\n",
    "        setattr(calc, variable, v)\n",
    "        l = calc.compute(ts, method='cce',\n",
    "                         nbstates=nb,\n",
    "                         quantity='coherence',\n",
    "                         parallel = True,)\n",
    "        \n",
    "        \n",
    "        #print('a run done') # uncomment to see progress\n",
    "        ls.append(l.real)\n",
    "\n",
    "    parameters[variable] = invalue\n",
    "    ls = pd.DataFrame(ls, columns=ts, index=values).T\n",
    "    return ls"
   ]
  },
  {
   "cell_type": "code",
   "execution_count": null,
   "metadata": {},
   "outputs": [],
   "source": [
    "#import xyz file\n",
    "uc = pd.read_csv('VOTPP_opt.xyz', skiprows=2, header=None, delimiter='      ', engine='python') #enter specific directory\n",
    "#seperate columns into numpy arrays\n",
    "N = np.array(uc[0])\n",
    "x = np.array(uc[1])\n",
    "y = np.array(uc[2])\n",
    "z = np.array(uc[3])\n",
    "#set up unit cell\n",
    "sic = pc.BathCell(13.2613, 13.2613, 9.6851, 90, 90, 90, 'deg') #used optimized structure note there is also an x-ray structure with slightly different values\n",
    "# z axis in cell coordinates\n",
    "sic.zdir = [0, 0, 1]\n",
    "\n",
    "#populate cell\n",
    "for i in range(len(N)):\n",
    "    sic.add_atoms((N[i], [x[i], y[i], z[i]]), type='angstrom')\n",
    "\n",
    "#assign position of qubit \n",
    "pos1 = x[76], y[76], z[76]\n",
    "qpos = sic.to_cell(pos1)\n",
    "\n",
    "#generate supercell - nuclear bath \n",
    "cell=100\n",
    "atoms = sic.gen_supercell(cell, seed = 8000) #left fixed for convergence tests to avoid changes\n",
    "#set          spin | gyro | quadrupole \n",
    "spin_types = [('C', 1 / 2, 6.72828),    \n",
    "              ('H', 1 / 2, 26.7522),\n",
    "              ('N', 1,     1.9331, 20.44 )\n",
    "              #('V', 7/2, 7.05, -350)  # not added for consistency between tests\n",
    "              ]   \n",
    "atoms.add_type(*spin_types)\n",
    "\n",
    "#set up the center \n",
    "cen = pc.CenterArray(size=1, position=qpos, \n",
    "                     spin=7/2, D=-350, gyro=-7.05,  \n",
    "                     alpha=[0,0,0,0,0,1,0,0], beta=[0,0,0,0,1,0,0,0]) #set to -3/2 to -1/2\n",
    "\n",
    "#parameters\n",
    "nb=25\n",
    "ts = np.linspace(0, 7e-2, 201) #expected T2 of 3.3e-2\n",
    "\n",
    "#dictionary of parameters\n",
    "parameters = dict(\n",
    "    order=2, # CCE order\n",
    "    r_bath=20,  # Size of the bath in A\n",
    "    r_dipole=10,  # Cutoff of pairwise clusters in A\n",
    "    pulses = 1, # N pulses in CPMG sequence\n",
    "    magnetic_field=[0,0,10000] #set to 1T\n",
    ") \n"
   ]
  }
 ],
 "metadata": {
  "kernelspec": {
   "display_name": "Capstone_environment",
   "language": "python",
   "name": "python3"
  },
  "language_info": {
   "codemirror_mode": {
    "name": "ipython",
    "version": 3
   },
   "file_extension": ".py",
   "mimetype": "text/x-python",
   "name": "python",
   "nbconvert_exporter": "python",
   "pygments_lexer": "ipython3",
   "version": "3.10.10"
  },
  "orig_nbformat": 4
 },
 "nbformat": 4,
 "nbformat_minor": 2
}
